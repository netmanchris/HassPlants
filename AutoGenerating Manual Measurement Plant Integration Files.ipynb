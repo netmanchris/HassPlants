{
 "cells": [
  {
   "cell_type": "markdown",
   "id": "33c4637c",
   "metadata": {},
   "source": [
    "# Manual Measurement Plant AutoGenerate Configurations from CSV\n",
    "\n",
    "This notebook will focus on the Input_helper configuration generation for us with the plant integration within Home Assistant.\n",
    "\n",
    "Date of Project: July 24 2022\n",
    "Software and Devices Used: \n",
    "- Home Assistant 2022.7\n",
    "- Awair Element AQI Sensor\n",
    "- Hue Motion Sensor + Hue Bridge\n",
    "\n",
    "Further notebooks will be created to document the other portions of this project which will be available on my Github repositoriy located here.\n",
    "\n",
    "https://github.com/netmanchris/HassPlants"
   ]
  },
  {
   "cell_type": "markdown",
   "id": "62678c4e",
   "metadata": {},
   "source": [
    "\n",
    "\n",
    "# Auto Generation of Manual Input Plant integrations for Home Assistant\n",
    "\n",
    "Like most things, what was easy at low volume can start to show challenges when reaching certain scales. \n",
    "\n",
    "This project is intended to help automate the creation of my \n",
    "home assistant based Plant monitoring setup. Although I prefer to use the Xioami Miflora sensors who's initial setup can be seen documented in this [project](./README.MD).\n",
    "\n",
    "\n",
    "\n",
    "## WHY?\n",
    "\n",
    "### Why part 1?\n",
    "\n",
    "I killed plants. I'd like my plants to not die.\n",
    "\n",
    "### Why part 2?\n",
    "\n",
    "Why not? Home Automation is supposed to help us and make our lives easier. \n",
    "\n",
    "### Why part 3?\n",
    "\n",
    "MifLora Sensors are kinda awesome, but at scale they can start to be very expensive. When I started this project last year, they could be found as low as eleven dollars a piece. At the time of this writting, they are showing on AliExpress at twenty-six average and somewhere around fifty on Amazon Canada.  Too rich for my blood.\n",
    "\n",
    "### Simple Solution\n",
    "\n",
    "For users not wanting to invest in the ESP32 + Miflora sensors. You can leverage a combination of a traditional plant sensor to take and track manual readings in combination of existing temperature and light sensors that you likely might already have in your homes.\n",
    "\n",
    "\n",
    "\n"
   ]
  },
  {
   "cell_type": "markdown",
   "id": "9f4420c2",
   "metadata": {},
   "source": [
    "# CSV File Formating and Plant integration Generation\n",
    "\n",
    "There are currently three files which are required as data inputs for this project\n",
    "\n",
    "- plants_worksheet.csv is the file where the plants to include in the generation of the input_helpers will be stored\n",
    "- plants_attribytes.csv\n",
    "- room_sensors.csv\n",
    "\n",
    "\n",
    "\n"
   ]
  },
  {
   "cell_type": "markdown",
   "id": "5d2a9228",
   "metadata": {},
   "source": [
    "## Plants Worksheet CSV\n",
    "\n",
    "The Plants worksheet is a CSV which contains all of the information required to generate the ESP32 configurations, plant integration configurations, as well as the dashboards for both desktop/tablet and mobile formats.\n",
    "\n",
    "The plant worksheet can be located here.\n",
    "\n",
    "Each row of this worksheet represents a single plant with the following attributes\\\n",
    "\n",
    "- name: Unique Value. One per plant. type: String\n",
    "- plant_type: One per plant. Must match values in the *plant_attributes.csv* worksheet type: String\n",
    "- room: Grouping mechanism. Plants with the same value will be automatically grouped together.\n",
    "- sensor: Unique Value. One per sensor. type: Integer\n",
    "- sensor_number: Unique Value. One per sensor. This will be appended in the ESP config as the unique portion of the auto-generated sensor entity.  type: String\n",
    "- sensor_mac: the 12 digit mac-address in the format XX:XX:XX:XX:XX:XX example C4:7C:8D:6D:8D:F6 type: String\n",
    "- esp_parent: {FUTURE USE} Intention is to use this to create a permanent binding between a specific plant sensor and a specific ESP32 device to prevent naming conflicts when dealing with larger rooms ( > 13 plants per room ) type: String \n",
    "- esp_current: Unused. Documentation purposes only. type: String\n",
    "- room_picture: {FUTURE USE} Intention is to use this to bind specific plants to specific room pictures for building - out dashboards that require multiple camera angles. type: String\n",
    "- top: Numerical value used a the X coodinate for plant placement for the room picture generation. type: Integer\n",
    "- left: Numerical value used a the Y coodinate for plant placement for the room picture generation. type: Integer\n",
    "- flash_light: full name of the script entitiy used to flash the lights where a specific plant is located. type: String\n",
    "\n",
    "\n",
    "\n",
    "\n",
    "\n",
    "\n"
   ]
  },
  {
   "cell_type": "markdown",
   "id": "b3e77765",
   "metadata": {},
   "source": [
    "## Plants Attributes CSV\n",
    "\n",
    "The Plants worksheet is a CSV which contains all of the information required to generate the ESP32 configurations, plant integration configurations, as well as the dashboards for both desktop/tablet and mobile formats.\n",
    "\n",
    "The plant worksheet can be located [here](./data/plant_attrributes.csv). Further documentation on the exact values below can be found on the Home Assistant Plant integration page [here](https://www.home-assistant.io/integrations/plant/)\n",
    "\n",
    "Each row of this worksheet represents a single plant with the following attributes\n",
    "\n",
    "\n",
    "- plant: Unique Value. One per plant species. type: String\n",
    "- species: Unique value. One per plant species. type: String\n",
    "- min_moisture: minimum moisture value reported by linked sensor where Home Assistant should trigger an alarm condition. Type: Integer between 1 and 100\n",
    "- max_moisture: maximum moisture value reported by linked sensor where Home Assistant should trigger an alarm condition. Type: Integer between 1 and 100\n",
    "- min_conductivity: minimum soil fertilization level value reported by linked sensor where Home Assistant should trigger an alarm condition. Type: Integer\n",
    "- max_conductivity: maximum soil fertilization level value reported by linked sensor where Home Assistant should trigger an alarm condition. Type: Integer\n",
    "- min_temperature: minimum temperature value reported by linked sensor where Home Assistant should trigger an alarm condition. Type: Integer\n",
    "- max_temperature: maximum temperature value reported by linked sensor where Home Assistant should trigger an alarm condition. Type: Integer\n",
    "- min_brightness: minimum brightness value reported by linked sensor where Home Assistant should trigger an alarm condition. Type: Integer\n",
    "- max_brightness: maximum brightness value value reported by linked sensor where Home Assistant should trigger an alarm condition. Type: Integer\n",
    "- check_days: time interval (in days) used when checking min_brightness."
   ]
  },
  {
   "cell_type": "markdown",
   "id": "77b512e7",
   "metadata": {},
   "source": [
    "## Room Sensors CSV\n",
    "\n",
    "\n",
    "The Room Sensors file is a CSV which contains some of the information required to generate the manual sensor plant integration configurations.\n",
    "\n",
    "The room sensor worksheet can be located [here](./data/room_sensors.csv). \n",
    "\n",
    "Each row of this worksheet represents a single room with the following attributes\n",
    "\n",
    "- room_name: Room name which must match the room name in the other spreadsheets. Type: String\n",
    "- room: Room name which must match the room name in the other spreadsheets. Type: String\n",
    "- temp_sensor: The full entity name of a device physically located in the same room as a plant which can be used as a proxy temperature sensor. Type: String\n",
    "- lux_sensor: The full entity name of a device physically located in the same room as a plant which can be used as a proxy lux sensor. Type: String\n",
    "\n"
   ]
  },
  {
   "cell_type": "markdown",
   "id": "dff96736",
   "metadata": {},
   "source": [
    "# Manual Sensor  Plant Integration Jinja Template\n",
    "\n",
    "The Goal of this project will be to do the following\n",
    "\n",
    "- Identify and Filter out only the plants in the plants_worksheet.csv file which are listed as having manual sensors. \n",
    "- Write a set of files to disk for Plant integration Definitions. One file per room which should contain all plants in that room. \n",
    "\n",
    "Bottom line; a complete plant integration entity will be created for each manual sensor in the spreadsheet and placed in a file labeled with the title of the room where that plant is located.  \n",
    "\n",
    "The template is split into 3 sections\n",
    "\n",
    "1. Bind Input Helpers to this Plant - This will automatically generate the plant definition including the appropriate binding to the right moisture and soil_conductivity input_helper entities for the specific plant.\n",
    "\n",
    "2. Bind Sensors to this Plant - This will automatically generate the plant definition including the appropriate binding to the right temperature and brightness sensor entities for the specific plant.\n",
    "\n",
    "3. Fill in Plant Species Specific Values - This should automatically generate the plant definition included the appropriate values based on the plants species from the plants_attributes.csv file above. \n",
    "\n",
    "```\n",
    "{% for plant in plants %}{% if plant.sensor_model == 'manual' %}\n",
    "{{plant.name}}:\n",
    "    sensors:\n",
    "      moisture: input_number.{{plant.name|lower}}_moisture\n",
    "      conductivity: input_number.{{plant.name|lower}}_soil_conductivity{% for sensor in manual_sensors %}{% if sensor.room == plant.room %}\n",
    "      temperature: {{ sensor.temp_sensor }}\n",
    "      brightness: {{ sensor.lux_sensor }} {% endif %}{% endfor %}{% for plant_type in plant_types%}{% if plant.plant_type == plant_type.species%}\n",
    "    min_moisture: {{plant_type.min_moisture}}\n",
    "    max_moisture: {{plant_type.max_moisture}}\n",
    "    min_conductivity: {{plant_type.min_conductivity}}\n",
    "    max_conductivity: {{plant_type.max_conductivity}}\n",
    "    min_temperature: {{plant_type.min_temperature}}\n",
    "    max_temperature: {{plant_type.max_temperature}}\n",
    "    #min_brightness: {{plant_type.min_brightness}}\n",
    "    max_brightness: {{plant_type.max_brightness}}{% endif%}{% endfor %}\n",
    "    check_days: 3\n",
    "\n",
    "    {% endif %}{% endfor %}\n",
    "```\n",
    "\n",
    "\n",
    "\n"
   ]
  },
  {
   "cell_type": "markdown",
   "id": "ba87545c",
   "metadata": {},
   "source": [
    "# Generating the Configuration Files\n",
    "\n",
    "In this section, we'll go through the python code used to generate the actual configurations\n",
    "\n",
    "\n",
    "\n"
   ]
  },
  {
   "cell_type": "code",
   "execution_count": 13,
   "id": "8bb2e812",
   "metadata": {},
   "outputs": [],
   "source": [
    "import pandas as pd\n",
    "from jinja2 import Template\n",
    "import os"
   ]
  },
  {
   "cell_type": "markdown",
   "id": "86ce26a2",
   "metadata": {},
   "source": [
    "# Load Required Data Files CSV\n",
    "\n",
    "In this section, we will load the plants CSV file which will be used to create the ESPHome configurations to bind the Miflora BLE Plant sensors to a specific ESP32. \n",
    "\n",
    "There are two files needed here.\n",
    "\n",
    "1. plants_worksheet.csv which includes the various plants, sensors, room locations, corresponding script to flash lights.\n",
    "\n",
    "2. plants_attributes.csv which includes the specific min/max values for the various sensors to be used with the plant integration\n",
    "\n",
    "3. room_sensors.csv which includes the home assistant sensors for temperature and brightness for the room where the plant is located. \n",
    "\n"
   ]
  },
  {
   "cell_type": "code",
   "execution_count": 18,
   "id": "7fad5fd6",
   "metadata": {},
   "outputs": [],
   "source": [
    "#plants_df = pd.read_csv('data/plants_worksheet.csv', index_col=0)\n",
    "plants_df = pd.read_csv('data/plants_worksheet_sample.csv', index_col=0)\n",
    "plant_attribs = pd.read_csv('data/plant_attrributes.csv', index_col=0).to_dict('records')\n",
    "manual_sensors = pd.read_csv('data/room_sensors.csv', index_col=0).to_dict('records')\n",
    "\n"
   ]
  },
  {
   "cell_type": "markdown",
   "id": "5f2bddf9",
   "metadata": {},
   "source": [
    "## Create Rooms List\n",
    "\n",
    "In this step, we will create a list of the room names defined in the CSV file. Defining the room names logically is important in that ESP32 configurations, Plant entity definitions, and dashboards for each individual room will be automatically generated through this code. Spending some time thinking about how you want to organize your plants dashboards is a very, very good idea.\n",
    "\n",
    "Note: I've got logic in the jinja2 files that will check to see whether the element in the room list is of type \"string\" which will allow sensors unassigned to rooms to be ignored. \n",
    "\n",
    "TODO - CHECK TO MAKE SURE THIS IS TRUE FOR ALL TEMPLATES"
   ]
  },
  {
   "cell_type": "code",
   "execution_count": 19,
   "id": "6507e6de",
   "metadata": {},
   "outputs": [
    {
     "data": {
      "text/plain": [
       "['boys_bedroom',\n",
       " 'dining_room',\n",
       " 'downstairs_bathroom',\n",
       " 'games_room',\n",
       " 'home_office',\n",
       " 'kitchen',\n",
       " 'living_room',\n",
       " 'master_bedroom',\n",
       " nan]"
      ]
     },
     "execution_count": 19,
     "metadata": {},
     "output_type": "execute_result"
    }
   ],
   "source": [
    "rooms_list = list(plants_df.room.unique())\n",
    "rooms_list"
   ]
  },
  {
   "cell_type": "markdown",
   "id": "a37158b3",
   "metadata": {},
   "source": [
    "## Loading the Plants Integration Jinja2 Templates\n",
    "\n",
    "In this step, we load the plants specific templates from the templates folder and load it as a jinja2 template.\n",
    "\n",
    "\n"
   ]
  },
  {
   "cell_type": "code",
   "execution_count": 23,
   "id": "b2cf650f",
   "metadata": {},
   "outputs": [],
   "source": [
    "with open('templates/room_plants.j2') as f:\n",
    "    room_template = f.read()\n",
    "j2_plantroom_template = Template(room_template)"
   ]
  },
  {
   "cell_type": "markdown",
   "id": "efa16933",
   "metadata": {},
   "source": [
    "## Rendering Plant Configurations\n",
    "\n",
    "We will now render the Plant Configurations where one file will be generated for each room\n",
    "\n",
    "\n",
    "\n",
    "\n",
    "Note: As a prerequisite, the directory structure has to preexist to be able to properly save the file configurations to disk. \n",
    "\n",
    "Make sure that the folder \"plants\" exists under the output folder.\n",
    "\n",
    "\n",
    "\n",
    "\n",
    "\n"
   ]
  },
  {
   "cell_type": "code",
   "execution_count": 24,
   "id": "c4caa122",
   "metadata": {},
   "outputs": [],
   "source": [
    "# Includes the manual plants\n",
    "# Includes the LilyGo plants\n",
    "\n",
    "for room in rooms_list:\n",
    "    if type(room) is str:  \n",
    "        room = [room]\n",
    "        room_df = plants_df[plants_df.room.isin(room)]\n",
    "        #print (len(room_df))\n",
    "        if len(room_df) > 0:\n",
    "            #print (room)\n",
    "            #room_df = room_df[room_df.sensor_model.eq('Miflora')]\n",
    "            room_dict = room_df.to_dict('records')\n",
    "            #print (len(room_dict))\n",
    "\n",
    "            # OUTPUT A SINGLE FILE FOR EACH ROOM WITH ALL THE MiFLORA PLANTS INTEGRATION YAML WITH THE PROPER MIFLORA SENSOR NAMES\n",
    "            with open('output/plants/'+room_dict[0]['room']+'.txt', 'w') as f: \n",
    "                f.write(j2_plantroom_template.render(plants=room_dict, plant_types=plant_attribs, manual_sensors = manual_sensors))"
   ]
  },
  {
   "cell_type": "markdown",
   "id": "880f09df",
   "metadata": {},
   "source": [
    "# Sample Output\n",
    "\n",
    "The code above should generate a single file per room which contains all of the required plants.\n",
    "\n",
    "The following is the a sample of the file labeled \"boys_bedroom.txt\".\n",
    "\n",
    "As you can see, the plant definition is automatically using the sensor name which matches that auto-generated in the [Auto Generation of input_helper Configurations for manual tracking of plants in home assisant](./AutoGeneration of Input_Helpers for Plants without Sensors.ipynb) section of this project.\n",
    "\n",
    "You can verify that the moisture and conductivity sensors are the input_numbers generated in the other project, but the temperature and brightness sensors are values derived for plants in the boys_bedroom room from the room_sensors.csv file.\n",
    "\n",
    "```\n",
    "BBD_Snake_1:\n",
    "    sensors:\n",
    "      moisture: input_number.bbd_snake_1_moisture\n",
    "      conductivity: input_number.bbd_snake_1_soil_conductivity\n",
    "      temperature: sensor.awair_bbd_temp\n",
    "      brightness: sensor.hue_motion_sensor_1_illuminance_4 \n",
    "    min_moisture: 7\n",
    "    max_moisture: 50\n",
    "    min_conductivity: 300\n",
    "    max_conductivity: 1000\n",
    "    min_temperature: 7\n",
    "    max_temperature: 32\n",
    "    #min_brightness: 1500\n",
    "    max_brightness: 60000\n",
    "    check_days: 3\n",
    "\n",
    "```\n",
    "\n",
    "The configuration should be cut and paste into a file labeled %room_name%.yaml in the appropriate folder\n",
    "\n",
    "```\n",
    "config\n",
    "   ->plants\n",
    "```\n",
    "       \n",
    "This should also require adding a line to the configuration.yaml file to make sure that the structure is included in the processing of the overall configuration.\n",
    "\n",
    "\n",
    "```plant: !include_dir_merge_named plants```\n",
    "\n",
    "![image](./images/config_plants_yaml.png)\n",
    "\n",
    "\n",
    "Once you reload your configuration or restart your home assistant instance, you should be able to verify that the plants are shown as follows\n",
    "\n",
    "\n",
    "Navigate to **Settings > Devices & Services > entities** to validate that the plants were created as desired.\n",
    "\n",
    "![image](./images/hass_plant_entities.png)\n",
    "\n",
    "By click on a specific entity you can validate the current status and configuration \n",
    "\n",
    "![image](./images/plant_entity_3.png)\n",
    "\n",
    "By clickig on the attributes link, you can also validate the specific sensors that any individual plant. Notice that in the attributes you can see that the input_helpers have been assigned to the moisture and soil conductivity attributes, but that the Awair and Hue sensors have been used for the temperature and brightness values.\n",
    "\n",
    "![image](./images/plant_entity_4.png)\n"
   ]
  },
  {
   "cell_type": "code",
   "execution_count": null,
   "id": "dc163ec8",
   "metadata": {},
   "outputs": [],
   "source": []
  }
 ],
 "metadata": {
  "kernelspec": {
   "display_name": "Python 3 (ipykernel)",
   "language": "python",
   "name": "python3"
  },
  "language_info": {
   "codemirror_mode": {
    "name": "ipython",
    "version": 3
   },
   "file_extension": ".py",
   "mimetype": "text/x-python",
   "name": "python",
   "nbconvert_exporter": "python",
   "pygments_lexer": "ipython3",
   "version": "3.10.0"
  }
 },
 "nbformat": 4,
 "nbformat_minor": 5
}
