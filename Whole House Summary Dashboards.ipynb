{
 "cells": [
  {
   "cell_type": "markdown",
   "id": "786d7797",
   "metadata": {},
   "source": [
    "# Whole House Summary Dashboards\n",
    "\n"
   ]
  },
  {
   "cell_type": "code",
   "execution_count": 1,
   "id": "5817a4e8",
   "metadata": {},
   "outputs": [],
   "source": [
    "import pandas as pd\n",
    "from jinja2 import Template\n",
    "import os"
   ]
  },
  {
   "cell_type": "code",
   "execution_count": 6,
   "id": "a40868fe",
   "metadata": {},
   "outputs": [],
   "source": [
    "plants_df = pd.read_csv('data/plants_worksheet.csv', index_col=0)\n",
    "#plants_df = pd.read_csv('data/plants_worksheet_sample.csv', index_col=0)\n",
    "plant_attribs = pd.read_csv('data/plant_attrributes.csv', index_col=0).to_dict('records')\n",
    "manual_sensors = pd.read_csv('data/room_sensors.csv', index_col=0).to_dict('records')\n",
    "\n",
    "\n",
    "\n"
   ]
  },
  {
   "cell_type": "code",
   "execution_count": 8,
   "id": "9fe5903f",
   "metadata": {},
   "outputs": [],
   "source": [
    "# create one DF where all plants with Miflora sensors are included. No NonMiflora plants will be included at this time.\n",
    "#all_miflora_plants_df = plants_df #[plants_df.sensor_model.eq('Miflora')]\n",
    "all_plants_dict = plants_df.to_dict('records')\n",
    "rooms_list = list(plants_df.room.unique())\n",
    "\n",
    "#goal is to render a single page with plants from different rooms into individual sections"
   ]
  },
  {
   "cell_type": "markdown",
   "id": "aaaf892d",
   "metadata": {},
   "source": [
    "# Needs Water Summary Dashboard"
   ]
  },
  {
   "cell_type": "code",
   "execution_count": 11,
   "id": "7235f845",
   "metadata": {},
   "outputs": [],
   "source": [
    "with open('templates/needs_water.j2') as f:\n",
    "    needs_water_template = f.read()\n",
    "j2_needs_water_template = Template(needs_water_template)"
   ]
  },
  {
   "cell_type": "code",
   "execution_count": 12,
   "id": "823d991c",
   "metadata": {},
   "outputs": [],
   "source": [
    "with open('output/dashboards/need_water.txt', 'w') as f:  \n",
    "            f.write(j2_needs_water_template.render(plants=all_plants_dict, rooms = rooms_list))"
   ]
  },
  {
   "cell_type": "markdown",
   "id": "b0f24069",
   "metadata": {},
   "source": [
    "# Needs Fertilizer Summary Dashboard"
   ]
  },
  {
   "cell_type": "code",
   "execution_count": 14,
   "id": "f7de8e0d",
   "metadata": {},
   "outputs": [],
   "source": [
    "# Load the three different templates for needs water, needs fertilizer, and sensor issues dashboards\n",
    "\n",
    "with open('templates/needs_fertilizer.j2') as f:\n",
    "    needs_fertilizer_template = f.read()\n",
    "j2_needs_fertilizer_template = Template(needs_fertilizer_template)\n",
    "\n",
    "\n",
    "\n"
   ]
  },
  {
   "cell_type": "code",
   "execution_count": 15,
   "id": "bf11eb61",
   "metadata": {},
   "outputs": [],
   "source": [
    "with open('output/dashboards/need_fertilizer.txt', 'w') as f:  \n",
    "            f.write(j2_needs_fertilizer_template.render(plants=all_plants_dict, rooms = rooms_list))"
   ]
  },
  {
   "cell_type": "markdown",
   "id": "dc2dfa9f",
   "metadata": {},
   "source": [
    "# Sensors Need Attention Summary Dashboard\n"
   ]
  },
  {
   "cell_type": "code",
   "execution_count": 16,
   "id": "daf838c5",
   "metadata": {},
   "outputs": [],
   "source": [
    "with open('templates/needs_sensor.j2') as f:\n",
    "    needs_sensor_template = f.read()\n",
    "j2_needs_sensor_template = Template(needs_sensor_template)"
   ]
  },
  {
   "cell_type": "code",
   "execution_count": 17,
   "id": "546c9209",
   "metadata": {},
   "outputs": [],
   "source": [
    "with open('output/dashboards/need_sensor.txt', 'w') as f:  \n",
    "            f.write(j2_needs_sensor_template.render(plants=all_plants_dict, rooms = rooms_list))"
   ]
  },
  {
   "cell_type": "code",
   "execution_count": null,
   "id": "ba17193a",
   "metadata": {},
   "outputs": [],
   "source": []
  }
 ],
 "metadata": {
  "kernelspec": {
   "display_name": "Python 3 (ipykernel)",
   "language": "python",
   "name": "python3"
  },
  "language_info": {
   "codemirror_mode": {
    "name": "ipython",
    "version": 3
   },
   "file_extension": ".py",
   "mimetype": "text/x-python",
   "name": "python",
   "nbconvert_exporter": "python",
   "pygments_lexer": "ipython3",
   "version": "3.10.0"
  }
 },
 "nbformat": 4,
 "nbformat_minor": 5
}
