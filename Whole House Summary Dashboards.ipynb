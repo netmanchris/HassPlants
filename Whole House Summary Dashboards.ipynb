{
 "cells": [
  {
   "cell_type": "markdown",
   "id": "ba19026b",
   "metadata": {},
   "source": [
    "# Whole House Summary Dashboards\n",
    "\n"
   ]
  },
  {
   "cell_type": "code",
   "execution_count": 1,
   "id": "015dcb13",
   "metadata": {},
   "outputs": [],
   "source": [
    "import pandas as pd\n",
    "from jinja2 import Template\n",
    "import os"
   ]
  },
  {
   "cell_type": "code",
   "execution_count": 6,
   "id": "a1593dd8",
   "metadata": {},
   "outputs": [],
   "source": [
    "plants_df = pd.read_csv('data/plants_worksheet.csv', index_col=0)\n",
    "#plants_df = pd.read_csv('data/plants_worksheet_sample.csv', index_col=0)\n",
    "plant_attribs = pd.read_csv('data/plant_attrributes.csv', index_col=0).to_dict('records')\n",
    "manual_sensors = pd.read_csv('data/room_sensors.csv', index_col=0).to_dict('records')\n",
    "\n",
    "\n",
    "\n"
   ]
  },
  {
   "cell_type": "code",
   "execution_count": 8,
   "id": "d0db0614",
   "metadata": {},
   "outputs": [],
   "source": [
    "# create one DF where all plants with Miflora sensors are included. No NonMiflora plants will be included at this time.\n",
    "#all_miflora_plants_df = plants_df #[plants_df.sensor_model.eq('Miflora')]\n",
    "all_plants_dict = plants_df.to_dict('records')\n",
    "rooms_list = list(plants_df.room.unique())\n",
    "\n",
    "#goal is to render a single page with plants from different rooms into individual sections"
   ]
  },
  {
   "cell_type": "code",
   "execution_count": 11,
   "id": "df69bc2b",
   "metadata": {},
   "outputs": [],
   "source": [
    "with open('templates/needs_water.j2') as f:\n",
    "    needs_water_template = f.read()\n",
    "j2_needs_water_template = Template(needs_water_template)"
   ]
  },
  {
   "cell_type": "code",
   "execution_count": 12,
   "id": "41707f39",
   "metadata": {},
   "outputs": [],
   "source": [
    "with open('output/dashboards/need_water.txt', 'w') as f:  \n",
    "            f.write(j2_needs_water_template.render(plants=all_plants_dict, rooms = rooms_list))"
   ]
  },
  {
   "cell_type": "code",
   "execution_count": null,
   "id": "5a89a50f",
   "metadata": {},
   "outputs": [],
   "source": []
  }
 ],
 "metadata": {
  "kernelspec": {
   "display_name": "Python 3 (ipykernel)",
   "language": "python",
   "name": "python3"
  },
  "language_info": {
   "codemirror_mode": {
    "name": "ipython",
    "version": 3
   },
   "file_extension": ".py",
   "mimetype": "text/x-python",
   "name": "python",
   "nbconvert_exporter": "python",
   "pygments_lexer": "ipython3",
   "version": "3.10.0"
  }
 },
 "nbformat": 4,
 "nbformat_minor": 5
}
