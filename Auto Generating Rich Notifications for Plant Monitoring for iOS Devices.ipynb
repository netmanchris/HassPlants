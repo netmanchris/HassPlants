{
 "cells": [
  {
   "cell_type": "markdown",
   "id": "c0d18df2",
   "metadata": {},
   "source": [
    "# Rendering Home Assistant Automations for Rich Notifications for Plant status for iOS devices from CSV\n",
    "\n",
    "This notebook will focus on the generating the Plant Integration specifically for the Miflora Plant Sensors that were used with the ESPHome Configuration Generation in this [project](./AutoGenerate%20ESP32%20Configurations.ipynb)\n",
    "\n",
    "Date of Project: July 24 2022\n",
    "Software and Devices Used: \n",
    "- Home Assistant 2022.7\n",
    "- Miflora Xiaomi BLE Plant Sensor\n",
    "- ESP32-Wroom-RevD\n",
    "\n",
    "Further notebooks will be created to document the other portions of this project which will be available on my Github repositoriy located here.\n",
    "\n",
    "https://github.com/netmanchris/HassPlants"
   ]
  },
  {
   "cell_type": "code",
   "execution_count": 68,
   "id": "9aca3ffd",
   "metadata": {},
   "outputs": [],
   "source": [
    "import pandas as pd\n",
    "from jinja2 import Template\n",
    "import os"
   ]
  },
  {
   "cell_type": "code",
   "execution_count": 81,
   "id": "2fa7d72a",
   "metadata": {},
   "outputs": [],
   "source": [
    "plants_df = pd.read_csv('data/plants_worksheet.csv', index_col=0)\n",
    "#plants_df = pd.read_csv('data/plants_worksheet_sample.csv', index_col=0)\n",
    "plant_attribs = pd.read_csv('data/plant_attrributes.csv', index_col=0).to_dict('records')\n",
    "manual_sensors = pd.read_csv('data/room_sensors.csv', index_col=0).to_dict('records')\n",
    "\n",
    "\n"
   ]
  },
  {
   "cell_type": "code",
   "execution_count": 78,
   "id": "4418909a",
   "metadata": {},
   "outputs": [
    {
     "data": {
      "text/plain": [
       "['boys_bedroom',\n",
       " 'dining_room',\n",
       " 'downstairs_bathroom',\n",
       " 'games_room',\n",
       " 'home_office',\n",
       " 'kitchen',\n",
       " 'living_room',\n",
       " 'master_bedroom',\n",
       " nan]"
      ]
     },
     "execution_count": 78,
     "metadata": {},
     "output_type": "execute_result"
    }
   ],
   "source": [
    "rooms_list = list(plants_df.room.unique())\n",
    "rooms_list"
   ]
  },
  {
   "cell_type": "code",
   "execution_count": 86,
   "id": "8b00a7f6",
   "metadata": {},
   "outputs": [
    {
     "data": {
      "text/plain": [
       "plant_name\n",
       "MB_Peace_Lily    6\n",
       "MB_Porthos_1     3\n",
       "MB_Porthos_2     3\n",
       "MB_Porthos_3     5\n",
       "MB_Porthos_4     5\n",
       "MB_Porthos_5     5\n",
       "MB_Porthos_6     8\n",
       "MB_Porthos_7     8\n",
       "MB_Snake_1       1\n",
       "MB_Snake_2       1\n",
       "MB_Snake_3       1\n",
       "MB_Snake_4       1\n",
       "MB_Snake_5       1\n",
       "MB_Snake_6       1\n",
       "MB_Snake_7       2\n",
       "MB_Snake_8       5\n",
       "MB_Snake_9       5\n",
       "MB_Snake_10      5\n",
       "MB_Snake_11      5\n",
       "MB_Snake_12      5\n",
       "MB_Snake_13      6\n",
       "MB_Spider_1      3\n",
       "MB_Spider_2      3\n",
       "MB_Spider_3      3\n",
       "MB_Spider_4      4\n",
       "MB_Spider_5      4\n",
       "MB_Spider_6      4\n",
       "MB_Spider_7      4\n",
       "Name: zone, dtype: int64"
      ]
     },
     "execution_count": 86,
     "metadata": {},
     "output_type": "execute_result"
    }
   ],
   "source": [
    "room_df['zone'].astype(int)\n",
    "\n",
    "\n",
    "\n"
   ]
  },
  {
   "cell_type": "code",
   "execution_count": 90,
   "id": "11da5517",
   "metadata": {},
   "outputs": [],
   "source": [
    "with open('templates/automations.j2') as f:\n",
    "    automation_template = f.read()\n",
    "j2_automation_template = Template(automation_template)"
   ]
  },
  {
   "cell_type": "code",
   "execution_count": 91,
   "id": "30f76206",
   "metadata": {},
   "outputs": [],
   "source": [
    "# Includes the manual plants\n",
    "# Includes the LilyGo plants\n",
    "\n",
    "for room in rooms_list:\n",
    "    if type(room) is str:  \n",
    "        room = [room]\n",
    "        room_df = plants_df[plants_df.room.isin(room)]\n",
    "        #print (len(room_df))\n",
    "        if len(room_df) > 0:\n",
    "            #print (room)\n",
    "            #room_df = room_df[room_df.sensor_model.eq('Miflora')]\n",
    "            room_dict = room_df.to_dict('records')\n",
    "            #print (len(room_dict))\n",
    "\n",
    "            # OUTPUT A SINGLE FILE FOR EACH ROOM WITH ALL THE MiFLORA PLANTS INTEGRATION YAML WITH THE PROPER MIFLORA SENSOR NAMES\n",
    "            with open('output/automations/'+room_dict[0]['room']+'.txt', 'w') as f: \n",
    "                f.write(j2_automation_template.render(plants=room_dict, plant_types=plant_attribs, rooms = manual_sensors))"
   ]
  },
  {
   "cell_type": "code",
   "execution_count": null,
   "id": "f4a3b61d",
   "metadata": {},
   "outputs": [],
   "source": []
  }
 ],
 "metadata": {
  "kernelspec": {
   "display_name": "Python 3 (ipykernel)",
   "language": "python",
   "name": "python3"
  },
  "language_info": {
   "codemirror_mode": {
    "name": "ipython",
    "version": 3
   },
   "file_extension": ".py",
   "mimetype": "text/x-python",
   "name": "python",
   "nbconvert_exporter": "python",
   "pygments_lexer": "ipython3",
   "version": "3.10.0"
  }
 },
 "nbformat": 4,
 "nbformat_minor": 5
}
