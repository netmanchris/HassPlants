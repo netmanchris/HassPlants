{
 "cells": [
  {
   "cell_type": "markdown",
   "id": "7c46e380",
   "metadata": {},
   "source": [
    "# Rendering Home Assistant Automations for Rich Notifications for Plant status for iOS devices from CSV\n",
    "\n",
    "This notebook will focus on the generating the Plant Integration specifically for the Miflora Plant Sensors that were used with the ESPHome Configuration Generation in this [project](./AutoGenerate%20ESP32%20Configurations.ipynb)\n",
    "\n",
    "Date of Project: July 24 2022\n",
    "Software and Devices Used: \n",
    "- Home Assistant 2022.7\n",
    "- Miflora Xiaomi BLE Plant Sensor\n",
    "- ESP32-Wroom-RevD\n",
    "\n",
    "Further notebooks will be created to document the other portions of this project which will be available on my Github repositoriy located here.\n",
    "\n",
    "https://github.com/netmanchris/HassPlants"
   ]
  },
  {
   "cell_type": "code",
   "execution_count": 112,
   "id": "f06ed060",
   "metadata": {},
   "outputs": [],
   "source": [
    "import pandas as pd\n",
    "from jinja2 import Template\n",
    "import os"
   ]
  },
  {
   "cell_type": "code",
   "execution_count": 113,
   "id": "be89fb06",
   "metadata": {},
   "outputs": [],
   "source": [
    "plants_df = pd.read_csv('data/plants_worksheet.csv', index_col=0)\n",
    "#plants_df = pd.read_csv('data/plants_worksheet_sample.csv', index_col=0)\n",
    "plant_attribs = pd.read_csv('data/plant_attrributes.csv', index_col=0).to_dict('records')\n",
    "manual_sensors = pd.read_csv('data/room_sensors.csv', index_col=0).to_dict('records')\n",
    "\n",
    "\n"
   ]
  },
  {
   "cell_type": "code",
   "execution_count": 114,
   "id": "ba39db84",
   "metadata": {},
   "outputs": [
    {
     "data": {
      "text/plain": [
       "['kitchen',\n",
       " 'living_room',\n",
       " 'dining_room',\n",
       " 'home_office',\n",
       " 'downstairs_bathroom',\n",
       " 'master_bedroom',\n",
       " 'games_room',\n",
       " 'boys_bedroom',\n",
       " nan]"
      ]
     },
     "execution_count": 114,
     "metadata": {},
     "output_type": "execute_result"
    }
   ],
   "source": [
    "rooms_list = list(plants_df.room.unique())\n",
    "rooms_list"
   ]
  },
  {
   "cell_type": "code",
   "execution_count": 115,
   "id": "da2a8bae",
   "metadata": {},
   "outputs": [
    {
     "data": {
      "text/plain": [
       "plant_name\n",
       "BBD_Snake_1    1\n",
       "Name: zone, dtype: int64"
      ]
     },
     "execution_count": 115,
     "metadata": {},
     "output_type": "execute_result"
    }
   ],
   "source": [
    "room_df['zone'].astype(int)\n",
    "\n",
    "\n",
    "\n"
   ]
  },
  {
   "cell_type": "code",
   "execution_count": 168,
   "id": "12f9afe6",
   "metadata": {},
   "outputs": [],
   "source": [
    "with open('templates/automations.j2') as f:\n",
    "    automation_template = f.read()\n",
    "j2_automation_template = Template(automation_template)"
   ]
  },
  {
   "cell_type": "code",
   "execution_count": 169,
   "id": "4c38b137",
   "metadata": {},
   "outputs": [],
   "source": [
    "# Includes the manual plants\n",
    "# Includes the LilyGo plants\n",
    "\n",
    "for room in rooms_list:\n",
    "    if type(room) is str:  \n",
    "        room = [room]\n",
    "        room_df = plants_df[plants_df.room.isin(room)]\n",
    "        #print (len(room_df))\n",
    "        if len(room_df) > 0:\n",
    "            #print (room)\n",
    "            #room_df = room_df[room_df.sensor_model.eq('Miflora')]\n",
    "            room_dict = room_df.to_dict('records')\n",
    "            #print (len(room_dict))\n",
    "\n",
    "            # OUTPUT A SINGLE FILE FOR EACH ROOM WITH ALL THE MiFLORA PLANTS INTEGRATION YAML WITH THE PROPER MIFLORA SENSOR NAMES\n",
    "            with open('output/automations/'+room_dict[0]['room']+'.txt', 'w') as f: \n",
    "                f.write(j2_automation_template.render(plants=room_dict, plant_types=plant_attribs, rooms = manual_sensors))"
   ]
  },
  {
   "cell_type": "code",
   "execution_count": null,
   "id": "a1335518",
   "metadata": {},
   "outputs": [],
   "source": []
  }
 ],
 "metadata": {
  "kernelspec": {
   "display_name": "Python 3 (ipykernel)",
   "language": "python",
   "name": "python3"
  },
  "language_info": {
   "codemirror_mode": {
    "name": "ipython",
    "version": 3
   },
   "file_extension": ".py",
   "mimetype": "text/x-python",
   "name": "python",
   "nbconvert_exporter": "python",
   "pygments_lexer": "ipython3",
   "version": "3.10.0"
  }
 },
 "nbformat": 4,
 "nbformat_minor": 5
}
