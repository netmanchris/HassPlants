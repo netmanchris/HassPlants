{
 "cells": [
  {
   "cell_type": "markdown",
   "id": "06a504e9",
   "metadata": {},
   "source": [
    "# # Rendering Plant Integrations for MiFlora Sensors from CSV\n",
    "\n",
    "This notebook will focus on the generating the Plant Integration specifically for the Miflora Plant Sensors that were used with the ESPHome Configuration Generation in this [project](./AutoGenerate%20ESP32%20Configurations.ipynb)\n",
    "\n",
    "Date of Project: July 24 2022\n",
    "Software and Devices Used: \n",
    "- Home Assistant 2022.7\n",
    "- Miflora Xiaomi BLE Plant Sensor\n",
    "- ESP32-Wroom-RevD\n",
    "\n",
    "Further notebooks will be created to document the other portions of this project which will be available on my Github repositoriy located here.\n",
    "\n",
    "https://github.com/netmanchris/HassPlants"
   ]
  },
  {
   "cell_type": "markdown",
   "id": "29b4c412",
   "metadata": {},
   "source": [
    "The Goal of this project will be to do the following\n",
    "\n",
    "- Filter out only the plants in the plants_worksheet.csv file which are listed as having MiFlora sensors. \n",
    "\n",
    "- Plant Definitions - One per room. This should automatically generate the plant definition including the appropriate binding to the right sensor entity for the specific MiFlora sensors.\n",
    "\n",
    "```\n",
    "{% for plant in plants %}{% if plant.sensor_model == 'Miflora' %}\n",
    "{{plant.name}}:\n",
    "    sensors:\n",
    "      moisture: sensor.plant_{{plant.sensor}}_moisture\n",
    "      temperature: sensor.plant_{{plant.sensor}}_temperature\n",
    "      conductivity: sensor.plant_{{plant.sensor}}_soil_conductivity\n",
    "      brightness: sensor.plant_{{plant.sensor}}_illuminance{% for plant_type in plant_types%}{% if plant.plant_type == plant_type.species%}\n",
    "    min_moisture: {{plant_type.min_moisture}}\n",
    "    max_moisture: {{plant_type.max_moisture}}\n",
    "    min_conductivity: {{plant_type.min_conductivity}}\n",
    "    max_conductivity: {{plant_type.max_conductivity}}\n",
    "    min_temperature: {{plant_type.min_temperature}}\n",
    "    max_temperature: {{plant_type.max_temperature}}\n",
    "    #min_brightness: {{plant_type.min_brightness}}\n",
    "    max_brightness: {{plant_type.max_brightness}}{% endif%}{% endfor %}\n",
    "    check_days: 3\n",
    "\n",
    "    {% endif %}{% endfor %}\n",
    "```\n",
    "\n",
    "\n"
   ]
  },
  {
   "cell_type": "markdown",
   "id": "70ecfbbe",
   "metadata": {},
   "source": [
    "# Generating the Configuration Files\n",
    "\n",
    "In this section, we'll go through the python code used to generate the actual configurations\n",
    "\n",
    "\n"
   ]
  },
  {
   "cell_type": "code",
   "execution_count": 3,
   "id": "f93a1bd7",
   "metadata": {},
   "outputs": [],
   "source": [
    "import pandas as pd\n",
    "from jinja2 import Template\n",
    "import os"
   ]
  },
  {
   "cell_type": "markdown",
   "id": "848f93ce",
   "metadata": {},
   "source": [
    "# Load Required Data Files CSV\n",
    "\n",
    "In this section, we will load the plants CSV file which will be used to create the ESPHome configurations to bind the Miflora BLE Plant sensors to a specific ESP32. \n",
    "\n",
    "There are two files needed here.\n",
    "\n",
    "1. plants_worksheet.csv which includes the various plants, sensors, room locations, corresponding script to flash lights.\n",
    "\n",
    "2. plants_attributes.csv which includes the specific min/max values for the various sensors to be used with the plant integration\n",
    "\n",
    "\n",
    "\n",
    "\n",
    "\n",
    "\n"
   ]
  },
  {
   "cell_type": "code",
   "execution_count": 4,
   "id": "7e87ecb3",
   "metadata": {},
   "outputs": [],
   "source": [
    "#plants_df = pd.read_csv('data/plants_worksheet.csv', index_col=0)\n",
    "plants_df = pd.read_csv('data/plants_worksheet_sample.csv', index_col=0)\n",
    "plant_attribs = pd.read_csv('data/plant_attrributes.csv', index_col=0).to_dict('records')"
   ]
  },
  {
   "cell_type": "markdown",
   "id": "6bd2e290",
   "metadata": {},
   "source": [
    "## Create Rooms List\n",
    "\n",
    "In this step, we will create a list of the room names defined in the CSV file. Defining the room names logically is important in that ESP32 configurations, Plant entity definitions, and dashboards for each individual room will be automatically generated through this code. Spending some time thinking about how you want to organize your plants dashboards is a very, very good idea.\n",
    "\n",
    "Note: I've got logic in the jinja2 files that will check to see whether the element in the room list is of type \"string\" which will allow sensors unassigned to rooms to be ignored. \n",
    "\n",
    "TODO - CHECK TO MAKE SURE THIS IS TRUE FOR ALL TEMPLATES"
   ]
  },
  {
   "cell_type": "code",
   "execution_count": 7,
   "id": "9ffc478e",
   "metadata": {},
   "outputs": [
    {
     "data": {
      "text/plain": [
       "['boys_bedroom',\n",
       " 'dining_room',\n",
       " 'downstairs_bathroom',\n",
       " 'games_room',\n",
       " 'home_office',\n",
       " 'kitchen',\n",
       " 'living_room',\n",
       " 'master_bedroom',\n",
       " nan]"
      ]
     },
     "execution_count": 7,
     "metadata": {},
     "output_type": "execute_result"
    }
   ],
   "source": [
    "rooms_list = list(plants_df.room.unique())\n",
    "rooms_list"
   ]
  },
  {
   "cell_type": "markdown",
   "id": "5882ec63",
   "metadata": {},
   "source": [
    "## Loading the Plants Integration Jinja2 Templates\n",
    "\n",
    "In this step, we load the plants specific templates from the templates folder and load it as a jinja2 template.\n",
    "\n"
   ]
  },
  {
   "cell_type": "code",
   "execution_count": 9,
   "id": "7c693db6",
   "metadata": {},
   "outputs": [],
   "source": [
    "with open('templates/room_plants.j2') as f:\n",
    "    room_template = f.read()\n",
    "j2_plantroom_template = Template(room_template)"
   ]
  },
  {
   "cell_type": "markdown",
   "id": "fc34fecf",
   "metadata": {},
   "source": [
    "## Rendering Plant Configurations\n",
    "\n",
    "We will now render the Plant Configurations where one file will be generated for each room\n",
    "\n",
    "\n",
    "\n",
    "\n",
    "Note: As a prerequisite, the directory structure has to preexist to be able to properly save the file configurations to disk. \n",
    "\n",
    "Make sure that the folder \"plants\" exists under the output folder.\n",
    "\n",
    "\n",
    "\n",
    "\n"
   ]
  },
  {
   "cell_type": "code",
   "execution_count": 11,
   "id": "da24194d",
   "metadata": {},
   "outputs": [],
   "source": [
    "# Includes the manual plants\n",
    "# Includes the LilyGo plants\n",
    "\n",
    "for room in rooms_list:\n",
    "    if type(room) is str:  \n",
    "        room = [room]\n",
    "        room_df = plants_df[plants_df.room.isin(room)]\n",
    "        #print (len(room_df))\n",
    "        if len(room_df) > 0:\n",
    "            #print (room)\n",
    "            #room_df = room_df[room_df.sensor_model.eq('Miflora')]\n",
    "            room_dict = room_df.to_dict('records')\n",
    "            #print (len(room_dict))\n",
    "\n",
    "            # OUTPUT A SINGLE FILE FOR EACH ROOM WITH ALL THE MiFLORA PLANTS INTEGRATION YAML WITH THE PROPER MIFLORA SENSOR NAMES\n",
    "            with open('output/plants/'+room_dict[0]['room']+'.txt', 'w') as f: \n",
    "                f.write(j2_plantroom_template.render(plants=room_dict, plant_types=plant_attribs))"
   ]
  },
  {
   "cell_type": "markdown",
   "id": "054f0078",
   "metadata": {},
   "source": [
    "# Sample Output\n",
    "\n",
    "The code above should generate a single file per room which contains all of the required plants.\n",
    "\n",
    "The following is the a sample of the file labeled \"dining_room.txt\".\n",
    "\n",
    "As you can see, the plant definition is automatically using the sensor name which matches that auto-generated in the [Auto Generation of ESP32 Configurations for use with ESP Home](./AutoGenerate%20ESP32%20Configurations.ipynb)section of this project\n",
    "\n",
    "```\n",
    "DR_Dracaena_1:\n",
    "    sensors:\n",
    "      moisture: sensor.plant_s7_moisture\n",
    "      temperature: sensor.plant_s7_temperature\n",
    "      conductivity: sensor.plant_s7_soil_conductivity\n",
    "      brightness: sensor.plant_s7_illuminance\n",
    "    min_moisture: 15\n",
    "    max_moisture: 60\n",
    "    min_conductivity: 200\n",
    "    max_conductivity: 1500\n",
    "    min_temperature: 10\n",
    "    max_temperature: 35\n",
    "    #min_brightness: 2000\n",
    "    max_brightness: 50000\n",
    "    check_days: 3\n",
    "\n",
    "```\n",
    "\n",
    "The configuration should be cut and paste into a file labeled %room_name%.yaml in the appropriate folder\n",
    "\n",
    "```\n",
    "config\n",
    "   ->plants\n",
    "```\n",
    "       \n",
    "This should also require adding a line to the configuration.yaml file to make sure that the structure is included in the processing of the overall configuration.\n",
    "\n",
    "\n",
    "```plant: !include_dir_merge_named plants```\n",
    "\n",
    "![image](./images/config_plants_yaml.png)\n",
    "\n",
    "\n",
    "Once you reload your configuration or restart your home assistant instance, you should be able to verify that the plants are shown as follows\n",
    "\n",
    "\n",
    "Navigate to **Settings > Devices & Services > entities** to validate that the plants were created as desired.\n",
    "\n",
    "![image](./images/hass_plant_entities.png)\n",
    "\n",
    "By click on a specific entity you can validate the current status and configuration \n",
    "\n",
    "![image](./images/plant_entity_1.png)\n",
    "\n",
    "By clickig on the attributes link, you can also validate the specific sensors that any individual plant.\n",
    "\n",
    "![image](./images/plant_entity_2.png)\n"
   ]
  },
  {
   "cell_type": "markdown",
   "id": "e292adf3",
   "metadata": {},
   "source": [
    "# End Goal\n",
    "\n",
    "The entire purpose of this is to bind a specific setting to a specific plant so that you are now able to use this device in your home assistant dashboards.\n",
    "\n",
    "Now that you have bound all the sensors to a specific plant, you'll be able to use the plant card to show the current status of any individual plant\n",
    "\n",
    "\n",
    "![image](./images/plant_card_1.png)"
   ]
  },
  {
   "cell_type": "code",
   "execution_count": null,
   "id": "79e70598",
   "metadata": {},
   "outputs": [],
   "source": []
  }
 ],
 "metadata": {
  "kernelspec": {
   "display_name": "Python 3 (ipykernel)",
   "language": "python",
   "name": "python3"
  },
  "language_info": {
   "codemirror_mode": {
    "name": "ipython",
    "version": 3
   },
   "file_extension": ".py",
   "mimetype": "text/x-python",
   "name": "python",
   "nbconvert_exporter": "python",
   "pygments_lexer": "ipython3",
   "version": "3.10.0"
  }
 },
 "nbformat": 4,
 "nbformat_minor": 5
}
