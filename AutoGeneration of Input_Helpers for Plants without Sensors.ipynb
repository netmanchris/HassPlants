{
 "cells": [
  {
   "cell_type": "markdown",
   "id": "6c6962f9",
   "metadata": {},
   "source": [
    "# Input Helper AutoGenerate Configurations from CSV\n",
    "\n",
    "This notebook will focus on the Input_helper configuration generation for us with the plant integration within Home Assistant.\n",
    "\n",
    "Date of Project: July 24 2022\n",
    "Software and Devices Used: \n",
    "- Home Assistant 2022.7\n",
    "- Awair Element AQI Sensor\n",
    "- Hue Motion Sensor + Hue Bridge\n",
    "\n",
    "Further notebooks will be created to document the other portions of this project which will be available on my Github repositoriy located here.\n",
    "\n",
    "https://github.com/netmanchris/HassPlants"
   ]
  },
  {
   "cell_type": "markdown",
   "id": "d69c353b",
   "metadata": {},
   "source": [
    "\n",
    "\n",
    "# Miflora BLE Plant Sensor + ESP32 Config Generation for Home Assistant\n",
    "\n",
    "Like most things, what was easy at low volume can start to show challenges when reaching certain scales. \n",
    "\n",
    "This project is intended to help automate the creation of my \n",
    "home assistant based Plant monitoring setup. Although I prefer to use the Xioami Miflora sensors who's initial setup can be seen documented in this [project](./README.MD).\n",
    "\n",
    "This has been a work in progress and will likely change as I experiment. \n",
    "\n",
    "## WHY?\n",
    "\n",
    "### Why part 1?\n",
    "\n",
    "I killed plants. I'd like my plants to not die.\n",
    "\n",
    "### Why part 2?\n",
    "\n",
    "Why not? Home Automation is supposed to help us and make our lives easier. \n",
    "\n",
    "### Why part 3?\n",
    "\n",
    "MifLora Sensors are kinda awesome, but at scale they can start to be very expensive. When I started this project last year, they could be found as low as $11 dollars a piece. At the time of this writting, they are showing on AliExpress at $26 average and somewhere around $50 on Amazon Canada.  Too rich for my blood.\n",
    "\n",
    "\n",
    "### Simple Solution\n",
    "\n",
    "For users not wanting to invest in the ESP32 + Miflora sensors. You can leverage a combination of a traditional plant sensor to take and track manual readings in combination of existing temperature and light sensors that you likely might already have in your homes.\n",
    "\n",
    "\n"
   ]
  },
  {
   "cell_type": "markdown",
   "id": "917e0090",
   "metadata": {},
   "source": [
    "### CSV File Formating and Input Generation\n",
    "\n",
    "There are currently two files which are required as data inputs for this project\n",
    "\n",
    "- plants_worksheet.csv is the file where the plants to include in the generation of the input_helpers will be stored\n",
    "\n",
    "\n"
   ]
  },
  {
   "cell_type": "markdown",
   "id": "d7e1cf69",
   "metadata": {},
   "source": [
    "# Plants Worksheet CSV\n",
    "\n",
    "The Plants worksheet is a CSV which contains all of the information required to generate the ESP32 configurations, plant integration configurations, as well as the dashboards for both desktop/tablet and mobile formats.\n",
    "\n",
    "The plant worksheet can be located here.\n",
    "\n",
    "Each row of this worksheet represents a single plant with the following attributes\\\n",
    "\n",
    "- name: Unique Value. One per plant. type: String\n",
    "- plant_type: One per plant. Must match values in the *plant_attributes.csv* worksheet type: String\n",
    "- room: Grouping mechanism. Plants with the same value will be automatically grouped together.\n",
    "- sensor: Unique Value. One per sensor. type: Integer\n",
    "- sensor_number: Unique Value. One per sensor. This will be appended in the ESP config as the unique portion of the auto-generated sensor entity.  type: String\n",
    "- sensor_mac: the 12 digit mac-address in the format XX:XX:XX:XX:XX:XX example C4:7C:8D:6D:8D:F6 type: String\n",
    "- esp_parent: {FUTURE USE} Intention is to use this to create a permanent binding between a specific plant sensor and a specific ESP32 device to prevent naming conflicts when dealing with larger rooms ( > 13 plants per room ) type: String \n",
    "- esp_current: Unused. Documentation purposes only. type: String\n",
    "- room_picture: {FUTURE USE} Intention is to use this to bind specific plants to specific room pictures for building - out dashboards that require multiple camera angles. type: String\n",
    "- top: Numerical value used a the X coodinate for plant placement for the room picture generation. type: Integer\n",
    "- left: Numerical value used a the Y coodinate for plant placement for the room picture generation. type: Integer\n",
    "- flash_light: full name of the script entitiy used to flash the lights where a specific plant is located. type: String\n",
    "\n",
    "\n",
    "\n",
    "\n",
    "\n"
   ]
  },
  {
   "cell_type": "markdown",
   "id": "5a9d85af",
   "metadata": {},
   "source": [
    "## Creating the Input Helpers\n",
    "\n",
    "In this step we'll use a jinja2 template to create the input_helpers.\n",
    "\n",
    "Need to create an input_helper for each non-sensor plant.\n",
    "\n",
    "For organization, I'm thinking of creating a folder called \"plants\" in a folder called \"helpers\" which will existin the \"entities\" folder fo my root configuration\n",
    "\n",
    "```\n",
    "config\n",
    "   ->entities\n",
    "     -> helpers\n",
    "       -> plants\n",
    "```\n",
    "       \n",
    "This should also require adding a line to the configuration.yaml file to make sure that the structure is included in the processing of the overall configuration.\n",
    "\n",
    "\n",
    "```input_number: !include_dir_merge_named entities/helpers```\n",
    "\n"
   ]
  },
  {
   "cell_type": "markdown",
   "id": "80cc5958",
   "metadata": {},
   "source": [
    "## Proper Format\n",
    "\n",
    "The helpers need to be in valid YAML format. I created examples manually to use as the pattern for the jinja2 template\n",
    "\n",
    "ho_snake1_conductivity:\n",
    "    name: ho_snake1_conductivity\n",
    "    min: 0\n",
    "    max: 5000\n",
    "    step: 1\n",
    "    mode: box\n",
    "    unit_of_measurement: µS/cm\n",
    "\n",
    "ho_snake1_humidity:\n",
    "    name: ho_snake1_humidity\n",
    "    min: 0\n",
    "    max: 100\n",
    "    step: 1\n",
    "    mode: box\n",
    "    unit_of_measurement: '%'\n",
    "    \n",
    "    "
   ]
  },
  {
   "cell_type": "markdown",
   "id": "c393de62",
   "metadata": {},
   "source": [
    "## Tested Template\n",
    "\n",
    "The Plants worksheets includes an attribute called *sensor_model*  If this attribute is defined as *manual* in the worksheet file, then the following template will render a single file for each of room defined in the spreadsheet. \n",
    "\n",
    "```\n",
    "{% for plant in plants %}{% if plant.sensor_model == 'manual' %}\n",
    "{{plant.name}}_conductivity:\n",
    "    name: {{plant.name}}_conductivity\n",
    "    min: 0\n",
    "    max: 5000\n",
    "    step: 1\n",
    "    mode: box\n",
    "    unit_of_measurement: µS/cm\n",
    "\n",
    "{{plant.name}}_humidity:\n",
    "    name: {{plant.name}}_humidity\n",
    "    min: 0\n",
    "    max: 100\n",
    "    step: 1\n",
    "    mode: box\n",
    "    unit_of_measurement: '%'\n",
    "\n",
    "{% endif %} {% endfor %}\n",
    "\n",
    "\n"
   ]
  },
  {
   "cell_type": "markdown",
   "id": "467fad90",
   "metadata": {},
   "source": [
    "# Generating the Configuration Files\n",
    "\n",
    "In this section, we'll go through the python code used to generate the actual configurations\n",
    "\n"
   ]
  },
  {
   "cell_type": "code",
   "execution_count": 15,
   "id": "6be8264e",
   "metadata": {},
   "outputs": [],
   "source": [
    "import pandas as pd\n",
    "from jinja2 import Template\n",
    "import os"
   ]
  },
  {
   "cell_type": "markdown",
   "id": "ab9620ad",
   "metadata": {},
   "source": [
    "# Load Plants CSV\n",
    "\n",
    "In this section, we will load the plants CSV file which will be used to create the ESPHome configurations to bind the Miflora BLE Plant sensors to a specific ESP32. \n",
    "\n",
    "There is one file needed here.\n",
    "\n",
    "1. plants_worksheet.csv which includes the various plants, sensors, room locations, corresponding script to flash lights.\n",
    "\n",
    "\n",
    "\n",
    "\n",
    "\n"
   ]
  },
  {
   "cell_type": "code",
   "execution_count": 16,
   "id": "ba678973",
   "metadata": {},
   "outputs": [],
   "source": [
    "#plants_df = pd.read_csv('data/plants_worksheet.csv', index_col=0)\n",
    "plants_df = pd.read_csv('data/plants_worksheet_sample.csv', index_col=0)"
   ]
  },
  {
   "cell_type": "markdown",
   "id": "81428678",
   "metadata": {},
   "source": [
    "## Create Rooms List\n",
    "\n",
    "In this step, we will create a list of the room names defined in the CSV file. Defining the room names logically is important in that ESP32 configurations, Plant entity definitions, and dashboards for each individual room will be automatically generated through this code. Spending some time thinking about how you want to organize your plants dashboards is a very, very good idea.\n",
    "\n",
    "Note: I've got logic in the jinja2 files that will check to see whether the element in the room list is of type \"string\" which will allow sensors unassigned to rooms to be ignored. \n",
    "\n",
    "TODO - CHECK TO MAKE SURE THIS IS TRUE FOR ALL TEMPLATES"
   ]
  },
  {
   "cell_type": "code",
   "execution_count": 17,
   "id": "a99db1c5",
   "metadata": {},
   "outputs": [
    {
     "data": {
      "text/plain": [
       "['boys_bedroom',\n",
       " 'dining_room',\n",
       " 'downstairs_bathroom',\n",
       " 'games_room',\n",
       " 'home_office',\n",
       " 'kitchen',\n",
       " 'living_room',\n",
       " 'master_bedroom',\n",
       " nan]"
      ]
     },
     "execution_count": 17,
     "metadata": {},
     "output_type": "execute_result"
    }
   ],
   "source": [
    "rooms_list = list(plants_df.room.unique())\n",
    "rooms_list"
   ]
  },
  {
   "cell_type": "markdown",
   "id": "26477336",
   "metadata": {},
   "source": [
    "## Loading the Input Helper Jinja2 Templates\n",
    "\n",
    "In this step, we load the input_helper specific templates from the templates folder and load it as a jinja2 template.\n"
   ]
  },
  {
   "cell_type": "code",
   "execution_count": 18,
   "id": "29b82828",
   "metadata": {},
   "outputs": [],
   "source": [
    "with open('templates/input_helpers.j2') as f:\n",
    "    input_helper_template = f.read()\n",
    "j2_input_helper_template = Template(input_helper_template)"
   ]
  },
  {
   "cell_type": "markdown",
   "id": "081d3ca6",
   "metadata": {},
   "source": [
    "## Rendering Input Helper Configurations\n",
    "\n",
    "We will now render the Input Helper Configurations.\n",
    "\n",
    "Note: As a prerequisite, the directory structure has to preexist to be able to properly save the file configurations to disk. \n",
    "\n",
    "Make sure that the folder \"input_helpers\" exists under the output folder.\n",
    "\n",
    "\n",
    "\n"
   ]
  },
  {
   "cell_type": "code",
   "execution_count": 19,
   "id": "1f59d8ac",
   "metadata": {},
   "outputs": [],
   "source": [
    "for room in rooms_list:\n",
    "    if type(room) is str:\n",
    "        room = [room]\n",
    "        room_df = plants_df[plants_df.room.isin(room)]\n",
    "        #print (len(room_df))\n",
    "        if len(room_df) > 0:\n",
    "            #print (room)\n",
    "            room_dict = room_df.to_dict('records')\n",
    "            #print (len(room_dict))\n",
    "\n",
    "            # OUTPUT THE ESP32 ESPHome Configuration\n",
    "            with open('output/input_helpers/'+room_dict[0]['room']+'.txt', 'w') as f:\n",
    "                f.write(j2_input_helper_template.render(plants=room_dict))"
   ]
  },
  {
   "cell_type": "markdown",
   "id": "3701c7b4",
   "metadata": {},
   "source": [
    "# Sample Output\n",
    "\n",
    "The code above should generate a single file per room which contains all of the required input_helpers.\n",
    "\n",
    "The following is the a sample of the file labeled \"boys_bedroom\" .txt.\n",
    "\n",
    "```\n",
    "bbd_snake_1_soil_conductivity:\n",
    "    name: bbd_snake_1_soil_conductivity\n",
    "    min: 0\n",
    "    max: 5000\n",
    "    step: 1\n",
    "    mode: box\n",
    "    unit_of_measurement: µS/cm\n",
    "\n",
    "bbd_snake_1_moisture:\n",
    "    name: bbd_snake_1_moisture\n",
    "    min: 0\n",
    "    max: 100\n",
    "    step: 1\n",
    "    mode: box\n",
    "    unit_of_measurement: '%'\n",
    "```\n",
    "\n",
    "The configuration should be cut and paste into a file labeled %room_name%.yaml in the appropriate folder\n",
    "\n",
    "```\n",
    "config\n",
    "   ->entities\n",
    "     -> helpers\n",
    "       -> plants\n",
    "```\n",
    "       \n",
    "This should also require adding a line to the configuration.yaml file to make sure that the structure is included in the processing of the overall configuration.\n",
    "\n",
    "\n",
    "```input_number: !include_dir_merge_named entities/helpers```\n",
    "\n",
    "![image](./images/studiocode_inputhelpers.png)\n",
    "\n",
    "\n",
    "Once you reload your configuration or restart your home assistant instance, you should be able to verify that the input_helpers are shown as follows\n",
    "\n",
    "\n",
    "Navigate to **Settings > Devices & Services > Helpers** to validate that the input helpers were created as desired.\n",
    "\n",
    "![image](./images/input_helper_entities.png)"
   ]
  },
  {
   "cell_type": "markdown",
   "id": "99d53e1c",
   "metadata": {},
   "source": [
    "# Things to Note\n",
    "\n",
    "The Input_helpers will be created with default values of 0.  You may be tempted to use the \"default\" keyword in the yaml configuration, but that will reset the input_helper value to 0 every time you restart Home Assisant. If the goal here is to be able to track the status of specific plants over a period of time, we need those values to persist through reboots.\n",
    "\n",
    "\n"
   ]
  }
 ],
 "metadata": {
  "kernelspec": {
   "display_name": "Python 3 (ipykernel)",
   "language": "python",
   "name": "python3"
  },
  "language_info": {
   "codemirror_mode": {
    "name": "ipython",
    "version": 3
   },
   "file_extension": ".py",
   "mimetype": "text/x-python",
   "name": "python",
   "nbconvert_exporter": "python",
   "pygments_lexer": "ipython3",
   "version": "3.10.0"
  }
 },
 "nbformat": 4,
 "nbformat_minor": 5
}
