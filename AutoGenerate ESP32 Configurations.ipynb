{
 "cells": [
  {
   "cell_type": "markdown",
   "id": "40fceac6",
   "metadata": {},
   "source": [
    "# ESP32 AutoGenerate Configurations from CSV\n",
    "\n",
    "This notebook will focus on the ESP32 configuration generation for us with the ESPHome integration within Home Assistant.\n",
    "\n",
    "Date of Project: July 24 2022\n",
    "Software and Devices Used: \n",
    "- Home Assistant 2022.7\n",
    "- Miflora Xiaomi BLE Plant Sensor\n",
    "- ESP32-Wroom-RevD\n",
    "\n",
    "Further notebooks will be created to document the other portions of this project which will be available on my Github repositoriy located here.\n",
    "\n",
    "https://github.com/netmanchris/HassPlants"
   ]
  },
  {
   "cell_type": "markdown",
   "id": "0ef60a62",
   "metadata": {},
   "source": [
    "\n",
    "\n",
    "# Miflora BLE Plant Sensor + ESP32 Config Generation for Home Assistant\n",
    "\n",
    "Like most things, what was easy at low volume can start to show challenges when reaching certain scales. \n",
    "\n",
    "This project is intended to help automate the creation of my home assistant based Plant monitoring setup. This setup uses a combination of the Xiaomi Miflora BLE Plant sensors, ESP32wroom RevD boards, and Home Assistant. \n",
    "\n",
    "This has been a work in progress and will likely change as I experiment. \n",
    "\n",
    "## WHY\n",
    "\n",
    "### Why part 1\n",
    "\n",
    "I killed plants. I'd like my plants to not die.\n",
    "\n",
    "### Why part 2\n",
    "\n",
    "Why not? Home Automation is supposed to help us and make our lives easier. This project will allow me to know exactly when any given plant in my home needs water and/or fertilization. I'm not wandering around the house touching plants to see if the it's dry or using a plant monitoring spike from plant to plant to check the soil fertilization. \n",
    "\n",
    "\n",
    "When I started this project, it was possible to integrate the Miflora Sensor suing the native BLE Home Assistant Integration, but as of 2022.7 release, the bluethooth libraries that Home Assistant used are no longer usable which will break existing MiFlora integrations using the BLE, and makes BLE no longer an option moving forward. \n",
    "\n",
    "![image](./images/20227BLEBroke.png)\n",
    "\n",
    "So moving forward, the ESPHome based is the easiest of the available options.\n",
    "\n",
    "In addition to the \"It's the easiest way\" reason, the other major reason to use the ESPHome based integration is that it allows you to esaily overcome the distance limitations that come along with Bluetooth as a networking technology. \n",
    "\n",
    "### Simple Solution\n",
    "\n",
    "For users wanting to leverage the simple ESPHome based solution, this can be easily done manually and allows you to deploy this solution in \n",
    "\n",
    "- Scan the BLE mac-address of the MiFlora sensor using an android-based device (iOS devices don't show the mac-address at the time of this writting)\n",
    "- Connect the ESP32 to the ESPHome interface in Home Assistant and add the Miflora specific configuration using the mac-address detected in step 1.\n",
    "- Manually configurat the YAML definition for the Plant integration using the Sensors entities assigned in step 2.\n",
    "- Add the new plant entities to dashboards\n",
    "\n",
    "![image](./images/singlesensor.png)\n",
    "\n",
    "### Scaled Solution\n",
    "\n",
    "When the same four steps above need to be performed at larger scales, it quickly became obvious to me that I needed to do something to automate these steps. Although this process can be useful to automate the creation of the various configuration files when dealing with just a few sensors, the majority of the work of this project was performed to deal with the a setup with the following attributes\n",
    "\n",
    "- 1 x home\n",
    "- 7 x rooms\n",
    "- 9 x Esp32-Wroom Rev D\n",
    "- ~80 x Miflora Plant Sensors\n",
    "\n",
    "![image](./images/multiplesensor.png)\n",
    "\n",
    "\n",
    "\n",
    "\n"
   ]
  },
  {
   "cell_type": "markdown",
   "id": "22904cc3",
   "metadata": {},
   "source": [
    "### CSV File Formating and Input Generation\n",
    "\n",
    "There are currently two files which are required as data inputs for this project\n",
    "\n",
    "- plants_worksheet.csv is the file where the plants to miflora sensor to esp32 bindings will be performed\n",
    "\n",
    "Other files in this repository will be used for other portions of this project. Only the plants_worksheet.csv is necessary for the Generation of the ESP32 configurations.\n",
    "\n",
    "### ESPHome Config Generation\n",
    "\n",
    "Because of the scale of the amount of sensors I'm using, I needed way to quickly generate the configurations for the ESP32s that could be used in the ESPHome integration to bind a specific Miflora sensor to a the appropriate ESP32.  \n",
    "\n",
    "The easiest way in my environment to do that was to split the plant sensors in groupings based on rooms ( see the plant CSV file for the entire data structure )"
   ]
  },
  {
   "cell_type": "markdown",
   "id": "9a4b2a54",
   "metadata": {},
   "source": [
    "# Plants Worksheet CSV\n",
    "\n",
    "The Plants worksheet is a CSV which contains all of the information required to generate the ESP32 configurations, plant integration configurations, as well as the dashboards for both desktop/tablet and mobile formats.\n",
    "\n",
    "The plant worksheet can be located here.\n",
    "\n",
    "Each row of this worksheet represents a single plant with the following attributes\\\n",
    "\n",
    "- name: Unique Value. One per plant. type: String\n",
    "- plant_type: One per plant. Must match values in the *plant_attributes.csv* worksheet type: String\n",
    "- room: Grouping mechanism. Plants with the same value will be automatically grouped together.\n",
    "- sensor: Unique Value. One per sensor. type: Integer\n",
    "- sensor_number: Unique Value. One per sensor. This will be appended in the ESP config as the unique portion of the auto-generated sensor entity.  type: String\n",
    "- sensor_mac: the 12 digit mac-address in the format XX:XX:XX:XX:XX:XX example C4:7C:8D:6D:8D:F6 type: String\n",
    "- esp_parent: {FUTURE USE} Intention is to use this to create a permanent binding between a specific plant sensor and a specific ESP32 device to prevent naming conflicts when dealing with larger rooms ( > 13 plants per room ) type: String \n",
    "- esp_current: Unused. Documentation purposes only. type: String\n",
    "- room_picture: {FUTURE USE} Intention is to use this to bind specific plants to specific room pictures for building - out dashboards that require multiple camera angles. type: String\n",
    "- top: Numerical value used a the X coodinate for plant placement for the room picture generation. type: Integer\n",
    "- left: Numerical value used a the Y coodinate for plant placement for the room picture generation. type: Integer\n",
    "- flash_light: full name of the script entitiy used to flash the lights where a specific plant is located. type: String\n",
    "\n",
    "\n",
    "\n",
    "\n"
   ]
  },
  {
   "cell_type": "markdown",
   "id": "b7f2e414",
   "metadata": {},
   "source": [
    "# Templates for ESP32\n",
    "\n",
    "In this step the goal is to create a jinj2 template file which will generate an ESP32 configuration to bind selected Miflora sensors for use with home assistant. \n",
    "\n",
    "Using the ESP_Home component in Home Assistant will automatically create sensors within Home Assistant for each of the sensors exposed by the MiFlora BLE Plant Sensor\n",
    "\n",
    "Requirements\n",
    "\n",
    "- load all plants data file\n",
    "- filter plants for a specific room to a new data frame\n",
    "- count the number of plants in the data frame\n",
    "- split the data frame by 13 (see note below)\n",
    "- create an ESP32 output file \n",
    "\n",
    "note ( current observed max number of miflora BLE sensors that can be monitored by an ESP32 wroom-D rev is 13. This number may be different based on newer, more powerfull models of the ESP32. Needs to be revisted with different models ).\n",
    "\n",
    "\n",
    "**Note**  Might want to allow filtering based on multiple rooms to deal with situations where plants from more than one room are bound to a single ESP32.  ( Ie. My Kitchen and Dining Room have less than 13 plants total, so I'm able to consolidate those two rooms on to a single ESP32 wroom-revD )"
   ]
  },
  {
   "cell_type": "markdown",
   "id": "b53593f9",
   "metadata": {},
   "source": [
    "## ESP32 Jinja2 Template\n",
    "\n",
    "Thing to note in this template\n",
    "\n",
    "A max of 13 sensors will be bound to a single ESP32 Wroom Rev d.  In testing this is the maximum amount of sensors configuration before things go weird. 14 may allow the ESP to run, but it seems to crash after some period of time. 15 sensors will not allow the ESP to boot up.\n",
    "\n",
    "For the naming convention\n",
    "\n",
    "I've used the name. \"plant_{{plant_sensor}}...\" for my naming convention. This will give us a predictable, human readable value for the entity ids that will show up in home assistant.\n",
    "\n",
    "for instance, a sensor called  \"s12\" will have the following home assistant entities automatically created which can be used later in the plant integration definition.\n",
    "\n",
    "```\n",
    "sensor.plant_s12_temperature\n",
    "sensor.plant_s12_moisture\n",
    "sensor.plant_s12_illuminance\n",
    "sensor.plant_s12_soil_conductivity\n",
    "sensor.plant_s12_battery_level\n",
    "```\n",
    "\n",
    "Note: The battery level is no longer reported through passive bluetooth by the Miflora sensors, I've left it in here as it doesn't break anything with no devices and may still be useful for sensors with older firmware on them. \n",
    "\n",
    "\n",
    "\n",
    "```\n",
    "{% for row in plants|batch(13) %}    #ESP32-Wroom-RevD can have a max of 13 sensors defined before things go weird.\n",
    "\n",
    "esp32_ble_tracker:\n",
    "\n",
    "sensor:\n",
    "{% for plant in row %}\n",
    "  - platform: xiaomi_hhccjcy01\n",
    "    mac_address: \"{{plant.sensor_mac}}\"     #Pulled directly from the plants_worksheet.csv file\n",
    "    temperature:\n",
    "      name: \"plant_{{plant.sensor}}_temperature\"    #pulled directly from the plants_worksheet.csv file\n",
    "    moisture:\n",
    "      name: \"plant_{{plant.sensor}}_moisture\"\n",
    "    illuminance:\n",
    "      name: \"plant_{{plant.sensor}}_illuminance\"\n",
    "    conductivity:\n",
    "      name: \"plant_{{plant.sensor}}_soil_conductivity\"\n",
    "    battery_level:\n",
    "      name: \"plant_{{plant.sensor}}_battery_level\"\n",
    "\n",
    "{% endfor %}{% endfor %}\n",
    "\n",
    "```"
   ]
  },
  {
   "cell_type": "markdown",
   "id": "c782c761",
   "metadata": {},
   "source": [
    "# Generating the Configuration Files\n",
    "\n",
    "In this section, we'll go through the python code used to generate the actual configurations\n"
   ]
  },
  {
   "cell_type": "code",
   "execution_count": 12,
   "id": "1324c6e9",
   "metadata": {},
   "outputs": [],
   "source": [
    "import pandas as pd\n",
    "from jinja2 import Template\n",
    "import os"
   ]
  },
  {
   "cell_type": "markdown",
   "id": "3e81b970",
   "metadata": {},
   "source": [
    "# Load Plants CSV\n",
    "\n",
    "In this section, we will load the plants CSV file which will be used to create the ESPHome configurations to bind the Miflora BLE Plant sensors to a specific ESP32. \n",
    "\n",
    "There is one file needed here.\n",
    "\n",
    "1. plants_worksheet.csv which includes the various plants, sensors, room locations, corresponding script to flash lights.\n",
    "\n",
    "\n",
    "\n",
    "\n"
   ]
  },
  {
   "cell_type": "code",
   "execution_count": 13,
   "id": "068affbe",
   "metadata": {},
   "outputs": [
    {
     "ename": "FileNotFoundError",
     "evalue": "[Errno 2] No such file or directory: 'data/plants_worksheet_sample.csv'",
     "output_type": "error",
     "traceback": [
      "\u001b[0;31m---------------------------------------------------------------------------\u001b[0m",
      "\u001b[0;31mFileNotFoundError\u001b[0m                         Traceback (most recent call last)",
      "Input \u001b[0;32mIn [13]\u001b[0m, in \u001b[0;36m<cell line: 2>\u001b[0;34m()\u001b[0m\n\u001b[1;32m      1\u001b[0m \u001b[38;5;66;03m#plants_df = pd.read_csv('data/plants_worksheet.csv', index_col=0)\u001b[39;00m\n\u001b[0;32m----> 2\u001b[0m plants_df \u001b[38;5;241m=\u001b[39m \u001b[43mpd\u001b[49m\u001b[38;5;241;43m.\u001b[39;49m\u001b[43mread_csv\u001b[49m\u001b[43m(\u001b[49m\u001b[38;5;124;43m'\u001b[39;49m\u001b[38;5;124;43mdata/plants_worksheet_sample.csv\u001b[39;49m\u001b[38;5;124;43m'\u001b[39;49m\u001b[43m,\u001b[49m\u001b[43m \u001b[49m\u001b[43mindex_col\u001b[49m\u001b[38;5;241;43m=\u001b[39;49m\u001b[38;5;241;43m0\u001b[39;49m\u001b[43m)\u001b[49m\n",
      "File \u001b[0;32m~/PycharmProjects/pHassPlantsPublished/venv/lib/python3.10/site-packages/pandas/util/_decorators.py:311\u001b[0m, in \u001b[0;36mdeprecate_nonkeyword_arguments.<locals>.decorate.<locals>.wrapper\u001b[0;34m(*args, **kwargs)\u001b[0m\n\u001b[1;32m    305\u001b[0m \u001b[38;5;28;01mif\u001b[39;00m \u001b[38;5;28mlen\u001b[39m(args) \u001b[38;5;241m>\u001b[39m num_allow_args:\n\u001b[1;32m    306\u001b[0m     warnings\u001b[38;5;241m.\u001b[39mwarn(\n\u001b[1;32m    307\u001b[0m         msg\u001b[38;5;241m.\u001b[39mformat(arguments\u001b[38;5;241m=\u001b[39marguments),\n\u001b[1;32m    308\u001b[0m         \u001b[38;5;167;01mFutureWarning\u001b[39;00m,\n\u001b[1;32m    309\u001b[0m         stacklevel\u001b[38;5;241m=\u001b[39mstacklevel,\n\u001b[1;32m    310\u001b[0m     )\n\u001b[0;32m--> 311\u001b[0m \u001b[38;5;28;01mreturn\u001b[39;00m \u001b[43mfunc\u001b[49m\u001b[43m(\u001b[49m\u001b[38;5;241;43m*\u001b[39;49m\u001b[43margs\u001b[49m\u001b[43m,\u001b[49m\u001b[43m \u001b[49m\u001b[38;5;241;43m*\u001b[39;49m\u001b[38;5;241;43m*\u001b[39;49m\u001b[43mkwargs\u001b[49m\u001b[43m)\u001b[49m\n",
      "File \u001b[0;32m~/PycharmProjects/pHassPlantsPublished/venv/lib/python3.10/site-packages/pandas/io/parsers/readers.py:680\u001b[0m, in \u001b[0;36mread_csv\u001b[0;34m(filepath_or_buffer, sep, delimiter, header, names, index_col, usecols, squeeze, prefix, mangle_dupe_cols, dtype, engine, converters, true_values, false_values, skipinitialspace, skiprows, skipfooter, nrows, na_values, keep_default_na, na_filter, verbose, skip_blank_lines, parse_dates, infer_datetime_format, keep_date_col, date_parser, dayfirst, cache_dates, iterator, chunksize, compression, thousands, decimal, lineterminator, quotechar, quoting, doublequote, escapechar, comment, encoding, encoding_errors, dialect, error_bad_lines, warn_bad_lines, on_bad_lines, delim_whitespace, low_memory, memory_map, float_precision, storage_options)\u001b[0m\n\u001b[1;32m    665\u001b[0m kwds_defaults \u001b[38;5;241m=\u001b[39m _refine_defaults_read(\n\u001b[1;32m    666\u001b[0m     dialect,\n\u001b[1;32m    667\u001b[0m     delimiter,\n\u001b[0;32m   (...)\u001b[0m\n\u001b[1;32m    676\u001b[0m     defaults\u001b[38;5;241m=\u001b[39m{\u001b[38;5;124m\"\u001b[39m\u001b[38;5;124mdelimiter\u001b[39m\u001b[38;5;124m\"\u001b[39m: \u001b[38;5;124m\"\u001b[39m\u001b[38;5;124m,\u001b[39m\u001b[38;5;124m\"\u001b[39m},\n\u001b[1;32m    677\u001b[0m )\n\u001b[1;32m    678\u001b[0m kwds\u001b[38;5;241m.\u001b[39mupdate(kwds_defaults)\n\u001b[0;32m--> 680\u001b[0m \u001b[38;5;28;01mreturn\u001b[39;00m \u001b[43m_read\u001b[49m\u001b[43m(\u001b[49m\u001b[43mfilepath_or_buffer\u001b[49m\u001b[43m,\u001b[49m\u001b[43m \u001b[49m\u001b[43mkwds\u001b[49m\u001b[43m)\u001b[49m\n",
      "File \u001b[0;32m~/PycharmProjects/pHassPlantsPublished/venv/lib/python3.10/site-packages/pandas/io/parsers/readers.py:575\u001b[0m, in \u001b[0;36m_read\u001b[0;34m(filepath_or_buffer, kwds)\u001b[0m\n\u001b[1;32m    572\u001b[0m _validate_names(kwds\u001b[38;5;241m.\u001b[39mget(\u001b[38;5;124m\"\u001b[39m\u001b[38;5;124mnames\u001b[39m\u001b[38;5;124m\"\u001b[39m, \u001b[38;5;28;01mNone\u001b[39;00m))\n\u001b[1;32m    574\u001b[0m \u001b[38;5;66;03m# Create the parser.\u001b[39;00m\n\u001b[0;32m--> 575\u001b[0m parser \u001b[38;5;241m=\u001b[39m \u001b[43mTextFileReader\u001b[49m\u001b[43m(\u001b[49m\u001b[43mfilepath_or_buffer\u001b[49m\u001b[43m,\u001b[49m\u001b[43m \u001b[49m\u001b[38;5;241;43m*\u001b[39;49m\u001b[38;5;241;43m*\u001b[39;49m\u001b[43mkwds\u001b[49m\u001b[43m)\u001b[49m\n\u001b[1;32m    577\u001b[0m \u001b[38;5;28;01mif\u001b[39;00m chunksize \u001b[38;5;129;01mor\u001b[39;00m iterator:\n\u001b[1;32m    578\u001b[0m     \u001b[38;5;28;01mreturn\u001b[39;00m parser\n",
      "File \u001b[0;32m~/PycharmProjects/pHassPlantsPublished/venv/lib/python3.10/site-packages/pandas/io/parsers/readers.py:934\u001b[0m, in \u001b[0;36mTextFileReader.__init__\u001b[0;34m(self, f, engine, **kwds)\u001b[0m\n\u001b[1;32m    931\u001b[0m     \u001b[38;5;28mself\u001b[39m\u001b[38;5;241m.\u001b[39moptions[\u001b[38;5;124m\"\u001b[39m\u001b[38;5;124mhas_index_names\u001b[39m\u001b[38;5;124m\"\u001b[39m] \u001b[38;5;241m=\u001b[39m kwds[\u001b[38;5;124m\"\u001b[39m\u001b[38;5;124mhas_index_names\u001b[39m\u001b[38;5;124m\"\u001b[39m]\n\u001b[1;32m    933\u001b[0m \u001b[38;5;28mself\u001b[39m\u001b[38;5;241m.\u001b[39mhandles: IOHandles \u001b[38;5;241m|\u001b[39m \u001b[38;5;28;01mNone\u001b[39;00m \u001b[38;5;241m=\u001b[39m \u001b[38;5;28;01mNone\u001b[39;00m\n\u001b[0;32m--> 934\u001b[0m \u001b[38;5;28mself\u001b[39m\u001b[38;5;241m.\u001b[39m_engine \u001b[38;5;241m=\u001b[39m \u001b[38;5;28;43mself\u001b[39;49m\u001b[38;5;241;43m.\u001b[39;49m\u001b[43m_make_engine\u001b[49m\u001b[43m(\u001b[49m\u001b[43mf\u001b[49m\u001b[43m,\u001b[49m\u001b[43m \u001b[49m\u001b[38;5;28;43mself\u001b[39;49m\u001b[38;5;241;43m.\u001b[39;49m\u001b[43mengine\u001b[49m\u001b[43m)\u001b[49m\n",
      "File \u001b[0;32m~/PycharmProjects/pHassPlantsPublished/venv/lib/python3.10/site-packages/pandas/io/parsers/readers.py:1218\u001b[0m, in \u001b[0;36mTextFileReader._make_engine\u001b[0;34m(self, f, engine)\u001b[0m\n\u001b[1;32m   1214\u001b[0m     mode \u001b[38;5;241m=\u001b[39m \u001b[38;5;124m\"\u001b[39m\u001b[38;5;124mrb\u001b[39m\u001b[38;5;124m\"\u001b[39m\n\u001b[1;32m   1215\u001b[0m \u001b[38;5;66;03m# error: No overload variant of \"get_handle\" matches argument types\u001b[39;00m\n\u001b[1;32m   1216\u001b[0m \u001b[38;5;66;03m# \"Union[str, PathLike[str], ReadCsvBuffer[bytes], ReadCsvBuffer[str]]\"\u001b[39;00m\n\u001b[1;32m   1217\u001b[0m \u001b[38;5;66;03m# , \"str\", \"bool\", \"Any\", \"Any\", \"Any\", \"Any\", \"Any\"\u001b[39;00m\n\u001b[0;32m-> 1218\u001b[0m \u001b[38;5;28mself\u001b[39m\u001b[38;5;241m.\u001b[39mhandles \u001b[38;5;241m=\u001b[39m \u001b[43mget_handle\u001b[49m\u001b[43m(\u001b[49m\u001b[43m  \u001b[49m\u001b[38;5;66;43;03m# type: ignore[call-overload]\u001b[39;49;00m\n\u001b[1;32m   1219\u001b[0m \u001b[43m    \u001b[49m\u001b[43mf\u001b[49m\u001b[43m,\u001b[49m\n\u001b[1;32m   1220\u001b[0m \u001b[43m    \u001b[49m\u001b[43mmode\u001b[49m\u001b[43m,\u001b[49m\n\u001b[1;32m   1221\u001b[0m \u001b[43m    \u001b[49m\u001b[43mencoding\u001b[49m\u001b[38;5;241;43m=\u001b[39;49m\u001b[38;5;28;43mself\u001b[39;49m\u001b[38;5;241;43m.\u001b[39;49m\u001b[43moptions\u001b[49m\u001b[38;5;241;43m.\u001b[39;49m\u001b[43mget\u001b[49m\u001b[43m(\u001b[49m\u001b[38;5;124;43m\"\u001b[39;49m\u001b[38;5;124;43mencoding\u001b[39;49m\u001b[38;5;124;43m\"\u001b[39;49m\u001b[43m,\u001b[49m\u001b[43m \u001b[49m\u001b[38;5;28;43;01mNone\u001b[39;49;00m\u001b[43m)\u001b[49m\u001b[43m,\u001b[49m\n\u001b[1;32m   1222\u001b[0m \u001b[43m    \u001b[49m\u001b[43mcompression\u001b[49m\u001b[38;5;241;43m=\u001b[39;49m\u001b[38;5;28;43mself\u001b[39;49m\u001b[38;5;241;43m.\u001b[39;49m\u001b[43moptions\u001b[49m\u001b[38;5;241;43m.\u001b[39;49m\u001b[43mget\u001b[49m\u001b[43m(\u001b[49m\u001b[38;5;124;43m\"\u001b[39;49m\u001b[38;5;124;43mcompression\u001b[39;49m\u001b[38;5;124;43m\"\u001b[39;49m\u001b[43m,\u001b[49m\u001b[43m \u001b[49m\u001b[38;5;28;43;01mNone\u001b[39;49;00m\u001b[43m)\u001b[49m\u001b[43m,\u001b[49m\n\u001b[1;32m   1223\u001b[0m \u001b[43m    \u001b[49m\u001b[43mmemory_map\u001b[49m\u001b[38;5;241;43m=\u001b[39;49m\u001b[38;5;28;43mself\u001b[39;49m\u001b[38;5;241;43m.\u001b[39;49m\u001b[43moptions\u001b[49m\u001b[38;5;241;43m.\u001b[39;49m\u001b[43mget\u001b[49m\u001b[43m(\u001b[49m\u001b[38;5;124;43m\"\u001b[39;49m\u001b[38;5;124;43mmemory_map\u001b[39;49m\u001b[38;5;124;43m\"\u001b[39;49m\u001b[43m,\u001b[49m\u001b[43m \u001b[49m\u001b[38;5;28;43;01mFalse\u001b[39;49;00m\u001b[43m)\u001b[49m\u001b[43m,\u001b[49m\n\u001b[1;32m   1224\u001b[0m \u001b[43m    \u001b[49m\u001b[43mis_text\u001b[49m\u001b[38;5;241;43m=\u001b[39;49m\u001b[43mis_text\u001b[49m\u001b[43m,\u001b[49m\n\u001b[1;32m   1225\u001b[0m \u001b[43m    \u001b[49m\u001b[43merrors\u001b[49m\u001b[38;5;241;43m=\u001b[39;49m\u001b[38;5;28;43mself\u001b[39;49m\u001b[38;5;241;43m.\u001b[39;49m\u001b[43moptions\u001b[49m\u001b[38;5;241;43m.\u001b[39;49m\u001b[43mget\u001b[49m\u001b[43m(\u001b[49m\u001b[38;5;124;43m\"\u001b[39;49m\u001b[38;5;124;43mencoding_errors\u001b[39;49m\u001b[38;5;124;43m\"\u001b[39;49m\u001b[43m,\u001b[49m\u001b[43m \u001b[49m\u001b[38;5;124;43m\"\u001b[39;49m\u001b[38;5;124;43mstrict\u001b[39;49m\u001b[38;5;124;43m\"\u001b[39;49m\u001b[43m)\u001b[49m\u001b[43m,\u001b[49m\n\u001b[1;32m   1226\u001b[0m \u001b[43m    \u001b[49m\u001b[43mstorage_options\u001b[49m\u001b[38;5;241;43m=\u001b[39;49m\u001b[38;5;28;43mself\u001b[39;49m\u001b[38;5;241;43m.\u001b[39;49m\u001b[43moptions\u001b[49m\u001b[38;5;241;43m.\u001b[39;49m\u001b[43mget\u001b[49m\u001b[43m(\u001b[49m\u001b[38;5;124;43m\"\u001b[39;49m\u001b[38;5;124;43mstorage_options\u001b[39;49m\u001b[38;5;124;43m\"\u001b[39;49m\u001b[43m,\u001b[49m\u001b[43m \u001b[49m\u001b[38;5;28;43;01mNone\u001b[39;49;00m\u001b[43m)\u001b[49m\u001b[43m,\u001b[49m\n\u001b[1;32m   1227\u001b[0m \u001b[43m\u001b[49m\u001b[43m)\u001b[49m\n\u001b[1;32m   1228\u001b[0m \u001b[38;5;28;01massert\u001b[39;00m \u001b[38;5;28mself\u001b[39m\u001b[38;5;241m.\u001b[39mhandles \u001b[38;5;129;01mis\u001b[39;00m \u001b[38;5;129;01mnot\u001b[39;00m \u001b[38;5;28;01mNone\u001b[39;00m\n\u001b[1;32m   1229\u001b[0m f \u001b[38;5;241m=\u001b[39m \u001b[38;5;28mself\u001b[39m\u001b[38;5;241m.\u001b[39mhandles\u001b[38;5;241m.\u001b[39mhandle\n",
      "File \u001b[0;32m~/PycharmProjects/pHassPlantsPublished/venv/lib/python3.10/site-packages/pandas/io/common.py:786\u001b[0m, in \u001b[0;36mget_handle\u001b[0;34m(path_or_buf, mode, encoding, compression, memory_map, is_text, errors, storage_options)\u001b[0m\n\u001b[1;32m    781\u001b[0m \u001b[38;5;28;01melif\u001b[39;00m \u001b[38;5;28misinstance\u001b[39m(handle, \u001b[38;5;28mstr\u001b[39m):\n\u001b[1;32m    782\u001b[0m     \u001b[38;5;66;03m# Check whether the filename is to be opened in binary mode.\u001b[39;00m\n\u001b[1;32m    783\u001b[0m     \u001b[38;5;66;03m# Binary mode does not support 'encoding' and 'newline'.\u001b[39;00m\n\u001b[1;32m    784\u001b[0m     \u001b[38;5;28;01mif\u001b[39;00m ioargs\u001b[38;5;241m.\u001b[39mencoding \u001b[38;5;129;01mand\u001b[39;00m \u001b[38;5;124m\"\u001b[39m\u001b[38;5;124mb\u001b[39m\u001b[38;5;124m\"\u001b[39m \u001b[38;5;129;01mnot\u001b[39;00m \u001b[38;5;129;01min\u001b[39;00m ioargs\u001b[38;5;241m.\u001b[39mmode:\n\u001b[1;32m    785\u001b[0m         \u001b[38;5;66;03m# Encoding\u001b[39;00m\n\u001b[0;32m--> 786\u001b[0m         handle \u001b[38;5;241m=\u001b[39m \u001b[38;5;28;43mopen\u001b[39;49m\u001b[43m(\u001b[49m\n\u001b[1;32m    787\u001b[0m \u001b[43m            \u001b[49m\u001b[43mhandle\u001b[49m\u001b[43m,\u001b[49m\n\u001b[1;32m    788\u001b[0m \u001b[43m            \u001b[49m\u001b[43mioargs\u001b[49m\u001b[38;5;241;43m.\u001b[39;49m\u001b[43mmode\u001b[49m\u001b[43m,\u001b[49m\n\u001b[1;32m    789\u001b[0m \u001b[43m            \u001b[49m\u001b[43mencoding\u001b[49m\u001b[38;5;241;43m=\u001b[39;49m\u001b[43mioargs\u001b[49m\u001b[38;5;241;43m.\u001b[39;49m\u001b[43mencoding\u001b[49m\u001b[43m,\u001b[49m\n\u001b[1;32m    790\u001b[0m \u001b[43m            \u001b[49m\u001b[43merrors\u001b[49m\u001b[38;5;241;43m=\u001b[39;49m\u001b[43merrors\u001b[49m\u001b[43m,\u001b[49m\n\u001b[1;32m    791\u001b[0m \u001b[43m            \u001b[49m\u001b[43mnewline\u001b[49m\u001b[38;5;241;43m=\u001b[39;49m\u001b[38;5;124;43m\"\u001b[39;49m\u001b[38;5;124;43m\"\u001b[39;49m\u001b[43m,\u001b[49m\n\u001b[1;32m    792\u001b[0m \u001b[43m        \u001b[49m\u001b[43m)\u001b[49m\n\u001b[1;32m    793\u001b[0m     \u001b[38;5;28;01melse\u001b[39;00m:\n\u001b[1;32m    794\u001b[0m         \u001b[38;5;66;03m# Binary mode\u001b[39;00m\n\u001b[1;32m    795\u001b[0m         handle \u001b[38;5;241m=\u001b[39m \u001b[38;5;28mopen\u001b[39m(handle, ioargs\u001b[38;5;241m.\u001b[39mmode)\n",
      "\u001b[0;31mFileNotFoundError\u001b[0m: [Errno 2] No such file or directory: 'data/plants_worksheet_sample.csv'"
     ]
    }
   ],
   "source": [
    "#plants_df = pd.read_csv('data/plants_worksheet.csv', index_col=0)\n",
    "plants_df = pd.read_csv('data/, index_col=0)\n",
    "\n"
   ]
  },
  {
   "cell_type": "markdown",
   "id": "1ab08e76",
   "metadata": {},
   "source": [
    "## Create Rooms List\n",
    "\n",
    "In this step, we will create a list of the room names defined in the CSV file. Defining the room names logically is important in that ESP32 configurations, Plant entity definitions, and dashboards for each individual room will be automatically generated through this code. Spending some time thinking about how you want to organize your plants dashboards is a very, very good idea.\n",
    "\n",
    "Note: I've got logic in the jinja2 files that will check to see whether the element in the room list is of type \"string\" which will allow sensors unassigned to rooms to be ignored. \n",
    "\n",
    "TODO - CHECK TO MAKE SURE THIS IS TRUE FOR ALL TEMPLATES"
   ]
  },
  {
   "cell_type": "code",
   "execution_count": 4,
   "id": "1f7a36db",
   "metadata": {},
   "outputs": [
    {
     "data": {
      "text/plain": [
       "['boys_bedroom',\n",
       " 'dining_room',\n",
       " 'downstairs_bathroom',\n",
       " 'games_room',\n",
       " 'home_office',\n",
       " 'kitchen',\n",
       " 'living_room',\n",
       " 'master_bedroom',\n",
       " nan]"
      ]
     },
     "execution_count": 4,
     "metadata": {},
     "output_type": "execute_result"
    }
   ],
   "source": [
    "rooms_list = list(plants_df.room.unique())\n",
    "rooms_list"
   ]
  },
  {
   "cell_type": "markdown",
   "id": "262a55d1",
   "metadata": {},
   "source": [
    "## Loading the ESP32 Jinja2 Templates\n",
    "\n",
    "In this step, we load the ESP specific templates from the templates folder and load it as a jinja2 template.\n",
    "\n",
    "- ESP32 configurations to be cut and paste into a specific ESP32 device.  * Note - It is recommended that you use at least an ESP32wroom revD. In my testing, earlier version of the ESP32 weren't able to detect the BLE beacons from the Miflora.\n",
    "\n",
    "Note: Currently the ESP template will generate one file per room. This file will be split into sections which create a configuration for up to 13 Miflora sensors per section.\n",
    "\n"
   ]
  },
  {
   "cell_type": "code",
   "execution_count": 10,
   "id": "148a5f8d",
   "metadata": {},
   "outputs": [],
   "source": [
    "with open('templates/esp.j2') as f:\n",
    "    esp_template = f.read()\n",
    "j2_esp_template = Template(esp_template)"
   ]
  },
  {
   "cell_type": "markdown",
   "id": "0eb35abd",
   "metadata": {},
   "source": [
    "## Rendering ESP Configurations\n",
    "\n",
    "We will now render the ESP32 Configurations.\n",
    "\n",
    "Note: As a prerequisite, the directory structure has to preexist to be able to properly save the file configurations to disk. \n",
    "\n",
    "\n"
   ]
  },
  {
   "cell_type": "code",
   "execution_count": 11,
   "id": "dc739868",
   "metadata": {},
   "outputs": [],
   "source": [
    "for room in rooms_list:\n",
    "    if type(room) is float:\n",
    "        pass\n",
    "    room = [room]\n",
    "    room_df = plants_df[plants_df.room.isin(room)]\n",
    "    #print (len(room_df))\n",
    "    if len(room_df) > 1:\n",
    "        #print (room)\n",
    "        esp_df = room_df[room_df.sensor_model.eq('Miflora')]\n",
    "        room_dict = esp_df.to_dict('records')\n",
    "        #print (len(room_dict))\n",
    "        \n",
    "        # OUTPUT THE ESP32 ESPHome Configuration\n",
    "        with open('output/esp/'+room_dict[0]['room']+'.txt', 'w') as f:\n",
    "            f.write(j2_esp_template.render(plants=room_dict))"
   ]
  },
  {
   "attachments": {},
   "cell_type": "markdown",
   "id": "4ab37107",
   "metadata": {},
   "source": [
    "# Sample Output\n",
    "\n",
    "You can check the ./output/esp/ folder for sample output where you should have one file for each room with the configuration as follows\n",
    "\n",
    "```\n",
    "\n",
    "esp32_ble_tracker:\n",
    "\n",
    "sensor:\n",
    "\n",
    "  - platform: xiaomi_hhccjcy01\n",
    "    mac_address: \"C4:7C:8D:6D:8D:F6\"\n",
    "    temperature:\n",
    "      name: \"plant_s7_temperature\"\n",
    "    moisture:\n",
    "      name: \"plant_s7_moisture\"\n",
    "    illuminance:\n",
    "      name: \"plant_s7_illuminance\"\n",
    "    conductivity:\n",
    "      name: \"plant_s7_soil_conductivity\"\n",
    "    battery_level:\n",
    "      name: \"plant_s7_battery_level\"\n",
    "      \n",
    "```\n",
    "\n",
    "This configuration can be cut and paste into the ESPHome configuration for a specific ESP32 which you've attached to your home assistant instance as shown below\n",
    "\n",
    "\n",
    "![ESPHomeConfig.png](./images/ESPHomeConfig.png)\n",
    "\n",
    "\n",
    "Once you have accepted the ESP32 into your Home Assistant Integrations You can verify that the sensor has been created with the correct entity names.\n",
    "\n",
    "![ESP32_dr_sample.png](./images/esp32_dr_sample.png)\n",
    "\n",
    "You can also verify the specific entities if you'd like\n",
    "\n",
    "![sensor_s7_entities.png](./images/sensor_s7_entities.png)\n",
    "\n",
    "\n"
   ]
  },
  {
   "cell_type": "markdown",
   "id": "1b6f60d1",
   "metadata": {},
   "source": [
    "# Things to Note\n",
    "\n",
    "You'll want to be careful when re running this multiple times as, depending on the order of the plant sensors in the CSV file, the specific 13 sensors that will be allocated to a specific ESP32 may not be the same each time you run this.\n",
    "\n",
    "If you have a single ESP32 per room, the order shouldn't matter, but if you have multiple ESP32's dedicated to a single room because of the amount of plants in that room, you may accidently move the sensors from one ESP32 to a second.\n",
    "\n",
    "This will result in Home Assistant automatically appending a \"_1\" or \"_2\" to the end of the entity name to ensure a unique entity ID in the home assistant database.  \n",
    "\n",
    "This will break the rest of the templates.  \n",
    "\n",
    "The easiest way to deal with this would be to completely remove the ESP32 (delete the integration for that specific ESP32) and then perform a full reboot of Home Assistant to clear any remaining cache. \n",
    "\n",
    "Although it's possible to manually remove the sensors, it can be a slightly more painful procedure. Because the configurations are all automatically generated, I've found it easier to simply remove and re-add the ESP32s for a specific room.\n",
    "\n"
   ]
  },
  {
   "cell_type": "code",
   "execution_count": null,
   "id": "595ccfc2",
   "metadata": {},
   "outputs": [],
   "source": []
  }
 ],
 "metadata": {
  "kernelspec": {
   "display_name": "Python 3 (ipykernel)",
   "language": "python",
   "name": "python3"
  },
  "language_info": {
   "codemirror_mode": {
    "name": "ipython",
    "version": 3
   },
   "file_extension": ".py",
   "mimetype": "text/x-python",
   "name": "python",
   "nbconvert_exporter": "python",
   "pygments_lexer": "ipython3",
   "version": "3.10.0"
  }
 },
 "nbformat": 4,
 "nbformat_minor": 5
}
