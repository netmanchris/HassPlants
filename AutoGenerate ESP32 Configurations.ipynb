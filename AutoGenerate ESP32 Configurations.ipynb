{
 "cells": [
  {
   "cell_type": "markdown",
   "id": "cb05e506",
   "metadata": {},
   "source": [
    "# ESP32 AutoGenerate Configurations from CSV\n",
    "\n",
    "This notebook will focus on the ESP32 configuration generation for us with the ESPHome integration within Home Assistant.\n",
    "\n",
    "Date of Project: July 24 2022\n",
    "Software and Devices Used: \n",
    "- Home Assistant 2022.7\n",
    "- Miflora Xiaomi BLE Plant Sensor\n",
    "- ESP32-Wroom-RevD\n",
    "\n",
    "Further notebooks will be created to document the other portions of this project which will be available on my Github repositoriy located here.\n",
    "\n",
    "https://github.com/netmanchris/HassPlants"
   ]
  },
  {
   "cell_type": "markdown",
   "id": "0437cf84",
   "metadata": {},
   "source": [
    "\n",
    "\n",
    "# Miflora BLE Plant Sensor + ESP32 Config Generation for Home Assistant\n",
    "\n",
    "Like most things, what was easy at low volume can start to show challenges when reaching certain scales. \n",
    "\n",
    "This project is intended to help automate the creation of my \n",
    "ome assistant based Plant monitoring setup. This setup uses a combindation of the Xiaomi Miflora BLE Plant sensors, ESP32wroom RevD boards, and Home Assistant. \n",
    "\n",
    "This has been a work in progress and will likely change as I experiment. \n",
    "\n",
    "## WHY\n",
    "\n",
    "### Why part 1\n",
    "\n",
    "I killed plants. I'd like my plants to not die.\n",
    "\n",
    "### Why part 2\n",
    "\n",
    "Why not? Home Automation is supposed to help us and make our lives easier. This project will allow me to know exactly when any given plant in my home needs water and/or fertilization. I'm not wandering around the house touching plants to see if the it's dry or using a plant monitoring spike from plant to plant to check the soil fertilization. \n",
    "\n",
    "\n",
    "When I started this project, it was possible to integrate the Miflora Sensor suing the native BLE Home Assistant Integration, but as of 2022.7 release, the bluethooth libraries that Home Assistant used are no longer usable which will break existing MiFlora integrations using the BLE, and makes BLE no longer an option moving forward. \n",
    "\n",
    "![image](./images/20227BLEBroke.png)\n",
    "\n",
    "So moving forward, the ESPHome based is the easiest of the available options.\n",
    "\n",
    "In addition to the \"It's the easiest way\" reason, the other major reason to use the ESPHome based integration is that it allows you to esaily overcome the distance limitations that come along with Bluetooth as a networking technology. \n",
    "\n",
    "### Simple Solution\n",
    "\n",
    "For users wanting to leverage the simple ESPHome based solution, this can be easily done manually and allows you to deploy this solution in \n",
    "\n",
    "- Scan the BLE mac-address of the MiFlora sensor using an android-based device (iOS devices don't show the mac-address at the time of this writting)\n",
    "- Connect the ESP32 to the ESPHome interface in Home Assistant and add the Miflora specific configuration using the mac-address detected in step 1.\n",
    "- Manually configurat the YAML definition for the Plant integration using the Sensors entities assigned in step 2.\n",
    "- Add the new plant entities to dashboards\n",
    "\n",
    "![image](./images/singlesensor.png)\n",
    "\n",
    "### Scaled Solution\n",
    "\n",
    "When the same four steps above need to be performed at larger scales, it quickly became obvious to me that I needed to do something to automate these steps. Although this process can be useful to automate the creation of the various configuration files when dealing with just a few sensors, the majority of the work of this project was performed to deal with the a setup with the following attributes\n",
    "\n",
    "- 1 x home\n",
    "- 7 x rooms\n",
    "- 9 x Esp32-Wroom Rev D\n",
    "- ~80 x Miflora Plant Sensors\n",
    "\n",
    "![image](./images/multiplesensor.png)\n",
    "\n",
    "\n",
    "\n",
    "\n"
   ]
  },
  {
   "cell_type": "markdown",
   "id": "1784bf5c",
   "metadata": {},
   "source": [
    "### CSV File Formating and Input Generation\n",
    "\n",
    "There are currently two files which are required as data inputs for this project\n",
    "\n",
    "- plants_worksheet.csv is the file where the plants to miflora sensor to esp32 bindings will be performed\n",
    "\n",
    "Other files in this repository will be used for other portions of this project. Only the plants_worksheet.csv is necessary for the Generation of the ESP32 configurations.\n",
    "\n",
    "### ESPHome Config Generation\n",
    "\n",
    "Because of the scale of the amount of sensors I'm using, I needed way to quickly generate the configurations for the ESP32s that could be used in the ESPHome integration to bind a specific Miflora sensor to a the appropriate ESP32.  \n",
    "\n",
    "The easiest way in my environment to do that was to split the plant sensors in groupings based on rooms ( see the plant CSV file for the entire data structure )"
   ]
  },
  {
   "cell_type": "markdown",
   "id": "1af8a9ef",
   "metadata": {},
   "source": [
    "# Plants Worksheet CSV\n",
    "\n",
    "The Plants worksheet is a CSV which contains all of the information required to generate the ESP32 configurations, plant integration configurations, as well as the dashboards for both desktop/tablet and mobile formats.\n",
    "\n",
    "The plant worksheet can be located here.\n",
    "\n",
    "Each row of this worksheet represents a single plant with the following attributes\\\n",
    "\n",
    "- name: Unique Value. One per plant. type: String\n",
    "- plant_type: One per plant. Must match values in the *plant_attributes.csv* worksheet type: String\n",
    "- room: Grouping mechanism. Plants with the same value will be automatically grouped together.\n",
    "- sensor: Unique Value. One per sensor. type: Integer\n",
    "- sensor_number: Unique Value. One per sensor. This will be appended in the ESP config as the unique portion of the auto-generated sensor entity.  type: String\n",
    "- sensor_mac: the 12 digit mac-address in the format XX:XX:XX:XX:XX:XX example C4:7C:8D:6D:8D:F6 type: String\n",
    "- esp_parent: {FUTURE USE} Intention is to use this to create a permanent binding between a specific plant sensor and a specific ESP32 device to prevent naming conflicts when dealing with larger rooms ( > 13 plants per room ) type: String \n",
    "- esp_current: Unused. Documentation purposes only. type: String\n",
    "- room_picture: {FUTURE USE} Intention is to use this to bind specific plants to specific room pictures for building - out dashboards that require multiple camera angles. type: String\n",
    "- top: Numerical value used a the X coodinate for plant placement for the room picture generation. type: Integer\n",
    "- left: Numerical value used a the Y coodinate for plant placement for the room picture generation. type: Integer\n",
    "- flash_light: full name of the script entitiy used to flash the lights where a specific plant is located. type: String\n",
    "\n",
    "\n",
    "\n",
    "\n"
   ]
  },
  {
   "cell_type": "markdown",
   "id": "72192732",
   "metadata": {},
   "source": [
    "# Plant Attributes CSV\n",
    "\n",
    "The plants attributes file csv file should contain one row per type of plant in your home that you're wanting to monitor. The values I'm using were pulled out of the Xiaomi Miflora app specifically, but you are free to use what ever values you'd like. \n",
    "\n",
    "- species: Unique value. This must match the plant_type value used in the *plants_worksheet.csv* file. type: String\n",
    "- min_moisture: Value defining the min_moisture value used to indentify when Home Assistant should raise a problem statement for plants of this specific species. type: Integer\n",
    "- max_moisture: Value defining the max_moisture value used to indentify when Home Assistant should raise a problem statement for plants of this specific species. type: Integer\n",
    "- min_conductivity: Value defining the min_conductivity value used to indentify when Home Assistant should raise a problem statement for plants of this specific species. type: Integer\n",
    "- max_conductivity: Value defining the max_conductivity value used to indentify when Home Assistant should raise a problem statement for plants of this specific species. type: Integer\n",
    "- min_temperature: Value defining the min_temperature value used to indentify when Home Assistant should raise a problem statement for plants of this specific species. type: Integer\n",
    "- max_temperature: Value defining the max_temperature value used to indentify when Home Assistant should raise a problem statement for plants of this specific species. type: Integer\n",
    "- min_brightness: Value defining the min_brightness value used to indentify when Home Assistant should raise a problem statement for plants of this specific species. type: Integer\n",
    "- max_brightness: Value defining the max_brightness value used to indentify when Home Assistant should raise a problem statement for plants of this specific species. type: Integer\n",
    "- check_days: Value defining the check_days value used to indentify when Home Assistant should raise a problem statement for plants of this specific species. type: Integer\n",
    "\n",
    "*** Note: min brightness isn't currently used in my templates. The Home Assitant Plant integration is well thought out given that it uses the min brightness value over a period of a couple of days. In my setup, I've found that there are some rooms that I simply don't make the minimum and I was alerting too often. Although I COULD have done a per-plant min brightness, I chose to simply ignore the min-brightness in the config which allows me to bypass the alerts. "
   ]
  },
  {
   "cell_type": "markdown",
   "id": "4ead885a",
   "metadata": {},
   "source": [
    "# Templates for ESP32\n",
    "\n",
    "In this step the goal is to create a jinj2 template file which will generate an ESP32 configuration to bind selected Miflora sensors for use with home assistant. \n",
    "\n",
    "Using the ESP_Home component in Home Assistant will automatically create sensors within Home Assistant for each of the sensors exposed by the MiFlora BLE Plant Sensor\n",
    "\n",
    "Requirements\n",
    "\n",
    "- load all plants data file\n",
    "- filter plants for a specific room to a new data frame\n",
    "- count the number of plants in the data frame\n",
    "- split the data frame by 13 (see note below)\n",
    "- create an ESP32 output file \n",
    "\n",
    "note ( current observed max number of miflora BLE sensors that can be monitored by an ESP32 wroom-D rev is 13. This number may be different based on newer, more powerfull models of the ESP32. Needs to be revisted with different models ).\n",
    "\n",
    "\n",
    "**Note**  Might want to allow filtering based on multiple rooms to deal with situations where plants from more than one room are bound to a single ESP32.  ( Ie. My Kitchen and Dining Room have less than 13 plants total, so I'm able to consolidate those two rooms on to a single ESP32 wroom-revD )"
   ]
  },
  {
   "cell_type": "markdown",
   "id": "457e63f9",
   "metadata": {},
   "source": [
    "## ESP32 Jinja2 Template\n",
    "\n",
    "Thing to note in this template\n",
    "\n",
    "A max of 13 sensors will be bound to a single ESP32 Wroom Rev d.  In testing this is the maximum amount of sensors configuration before things go weird. 14 may allow the ESP to run, but it seems to crash after some period of time. 15 sensors will not allow the ESP to boot up.\n",
    "\n",
    "For the naming convention\n",
    "\n",
    "I've used the name. \"plant_{{plant_sensor}}...\" for my naming convention. This will give us a predictable, human readable value for the entity ids that will show up in home assistant.\n",
    "\n",
    "for instance, a sensor called  \"s12\" will have the following home assistant entities automatically created which can be used later in the plant integration definition.\n",
    "\n",
    "```\n",
    "sensor.plant_s12_temperature\n",
    "sensor.plant_s12_moisture\n",
    "sensor.plant_s12_illuminance\n",
    "sensor.plant_s12_soil_conductivity\n",
    "sensor.plant_s12_battery_level\n",
    "```\n",
    "\n",
    "Note: The battery level is no longer reported through passive bluetooth by the Miflora sensors, I've left it in here as it doesn't break anything with no devices and may still be useful for sensors with older firmware on them. \n",
    "\n",
    "\n",
    "\n",
    "```\n",
    "{% for row in plants|batch(13) %}    #ESP32-Wroom-RevD can have a max of 13 sensors defined before things go weird.\n",
    "\n",
    "esp32_ble_tracker:\n",
    "\n",
    "sensor:\n",
    "{% for plant in row %}\n",
    "  - platform: xiaomi_hhccjcy01\n",
    "    mac_address: \"{{plant.sensor_mac}}\"     #Pulled directly from the plants_worksheet.csv file\n",
    "    temperature:\n",
    "      name: \"plant_{{plant.sensor}}_temperature\"    #pulled directly from the plants_worksheet.csv file\n",
    "    moisture:\n",
    "      name: \"plant_{{plant.sensor}}_moisture\"\n",
    "    illuminance:\n",
    "      name: \"plant_{{plant.sensor}}_illuminance\"\n",
    "    conductivity:\n",
    "      name: \"plant_{{plant.sensor}}_soil_conductivity\"\n",
    "    battery_level:\n",
    "      name: \"plant_{{plant.sensor}}_battery_level\"\n",
    "\n",
    "{% endfor %}{% endfor %}\n",
    "\n",
    "```"
   ]
  },
  {
   "cell_type": "markdown",
   "id": "e2d0ff3b",
   "metadata": {},
   "source": [
    "# Generating the Configuration Files\n",
    "\n",
    "In this section, we'll go through the python code used to generate the actual configurations\n"
   ]
  },
  {
   "cell_type": "code",
   "execution_count": 2,
   "id": "51462bb8",
   "metadata": {},
   "outputs": [],
   "source": [
    "import pandas as pd\n",
    "from jinja2 import Template\n",
    "import os"
   ]
  },
  {
   "cell_type": "markdown",
   "id": "ab106434",
   "metadata": {},
   "source": [
    "# Load Plants CSV\n",
    "\n",
    "In this section, we will load the plants CSV file which will be used to create the ESPHome configurations to bind the Miflora BLE Plant sensors to a specific ESP32. \n",
    "\n",
    "There is one file needed here.\n",
    "\n",
    "1. plants_worksheet.csv which includes the various plants, sensors, room locations, corresponding script to flash lights.\n",
    "\n",
    "\n",
    "\n",
    "\n"
   ]
  },
  {
   "cell_type": "code",
   "execution_count": 3,
   "id": "3a78cdd8",
   "metadata": {},
   "outputs": [],
   "source": [
    "plants_df = pd.read_csv('data/plants_worksheet.csv', index_col=0)"
   ]
  },
  {
   "cell_type": "markdown",
   "id": "d365ce8f",
   "metadata": {},
   "source": [
    "## Create Rooms List\n",
    "\n",
    "In this step, we will create a list of the room names defined in the CSV file. Defining the room names logically is important in that ESP32 configurations, Plant entity definitions, and dashboards for each individual room will be automatically generated through this code. Spending some time thinking about how you want to organize your plants dashboards is a very, very good idea.\n",
    "\n",
    "Note: I've got logic in the jinja2 files that will check to see whether the element in the room list is of type \"string\" which will allow sensors unassigned to rooms to be ignored. \n",
    "\n",
    "TODO - CHECK TO MAKE SURE THIS IS TRUE FOR ALL TEMPLATES"
   ]
  },
  {
   "cell_type": "code",
   "execution_count": 4,
   "id": "081921fd",
   "metadata": {},
   "outputs": [
    {
     "data": {
      "text/plain": [
       "['boys_bedroom',\n",
       " 'dining_room',\n",
       " 'downstairs_bathroom',\n",
       " 'games_room',\n",
       " 'home_office',\n",
       " 'kitchen',\n",
       " 'living_room',\n",
       " 'master_bedroom',\n",
       " nan]"
      ]
     },
     "execution_count": 4,
     "metadata": {},
     "output_type": "execute_result"
    }
   ],
   "source": [
    "rooms_list = list(plants_df.room.unique())\n",
    "rooms_list"
   ]
  },
  {
   "cell_type": "markdown",
   "id": "22c7326f",
   "metadata": {},
   "source": [
    "## Loading the ESP32 Jinja2 Templates\n",
    "\n",
    "In this step, we load the ESP specific templates from the templates folder and load it as a jinja2 template.\n",
    "\n",
    "- ESP32 configurations to be cut and paste into a specific ESP32 device.  * Note - It is recommended that you use at least an ESP32wroom revD. In my testing, earlier version of the ESP32 weren't able to detect the BLE beacons from the Miflora.\n",
    "\n",
    "Note: Currently the ESP template will generate one file per room. This file will be split into sections which create a configuration for up to 13 Miflora sensors per section.\n",
    "\n"
   ]
  },
  {
   "cell_type": "markdown",
   "id": "c1a6a975",
   "metadata": {},
   "source": [
    "## Loading ESP Configurations\n",
    "\n",
    "We will now render the ESP32 Configurations.\n",
    "\n",
    "Note: As a prerequisite, the directory structure has to preexist to be able to properly save the file configurations to disk. \n",
    "\n",
    "\n",
    "\n"
   ]
  },
  {
   "cell_type": "code",
   "execution_count": 10,
   "id": "f1976e7c",
   "metadata": {},
   "outputs": [],
   "source": [
    "with open('templates/esp.j2') as f:\n",
    "    esp_template = f.read()\n",
    "j2_esp_template = Template(esp_template)"
   ]
  },
  {
   "cell_type": "code",
   "execution_count": 11,
   "id": "385546cf",
   "metadata": {},
   "outputs": [],
   "source": [
    "for room in rooms_list:\n",
    "    if type(room) is float:\n",
    "        pass\n",
    "    room = [room]\n",
    "    room_df = plants_df[plants_df.room.isin(room)]\n",
    "    #print (len(room_df))\n",
    "    if len(room_df) > 1:\n",
    "        #print (room)\n",
    "        esp_df = room_df[room_df.sensor_model.eq('Miflora')]\n",
    "        room_dict = esp_df.to_dict('records')\n",
    "        #print (len(room_dict))\n",
    "        \n",
    "        # OUTPUT THE ESP32 ESPHome Configuration\n",
    "        with open('output/esp/'+room_dict[0]['room']+'.txt', 'w') as f:\n",
    "            f.write(j2_esp_template.render(plants=room_dict))"
   ]
  },
  {
   "attachments": {},
   "cell_type": "markdown",
   "id": "66bc4f42",
   "metadata": {},
   "source": [
    "# Sample Output\n",
    "\n",
    "You can check the ./output/esp/ folder for sample output where you should have one file for each room with the configuration as follows\n",
    "\n",
    "```\n",
    "\n",
    "esp32_ble_tracker:\n",
    "\n",
    "sensor:\n",
    "\n",
    "  - platform: xiaomi_hhccjcy01\n",
    "    mac_address: \"C4:7C:8D:6D:8D:F6\"\n",
    "    temperature:\n",
    "      name: \"plant_s7_temperature\"\n",
    "    moisture:\n",
    "      name: \"plant_s7_moisture\"\n",
    "    illuminance:\n",
    "      name: \"plant_s7_illuminance\"\n",
    "    conductivity:\n",
    "      name: \"plant_s7_soil_conductivity\"\n",
    "    battery_level:\n",
    "      name: \"plant_s7_battery_level\"\n",
    "      \n",
    "```\n",
    "\n",
    "This configuration can be cut and paste into the ESPHome configuration for a specific ESP32 which you've attached to your home assistant instance as shown below\n",
    "\n",
    "\n",
    "![ESPHomeConfig.png](./images/ESPHomeConfig.png)\n",
    "\n",
    "\n",
    "Once you have accepted the ESP32 into your Home Assistant Integrations You can verify that the sensor has been created with the correct entity names.\n",
    "\n",
    "![ESP32_dr_sample.png](./images/esp32_dr_sample.png)\n",
    "\n",
    "You can also verify the specific entities if you'd like\n",
    "\n",
    "![sensor_s7_entities.png](./images/sensor_s7_entities.png)\n",
    "\n",
    "\n"
   ]
  },
  {
   "cell_type": "markdown",
   "id": "33194403",
   "metadata": {},
   "source": [
    "# Things to Note\n",
    "\n",
    "You'll want to be careful when re running this multiple times as, depending on the order of the plant sensors in the CSV file, the specific 13 sensors that will be allocated to a specific ESP32 may not be the same each time you run this.\n",
    "\n",
    "If you have a single ESP32 per room, the order shouldn't matter, but if you have multiple ESP32's dedicated to a single room because of the amount of plants in that room, you may accidently move the sensors from one ESP32 to a second.\n",
    "\n",
    "This will result in Home Assistant automatically appending a \"_1\" or \"_2\" to the end of the entity name to ensure a unique entity ID in the home assistant database.  \n",
    "\n",
    "This will break the rest of the templates.  \n",
    "\n",
    "The easiest way to deal with this would be to completely remove the ESP32 (delete the integration for that specific ESP32) and then perform a full reboot of Home Assistant to clear any re"
   ]
  }
 ],
 "metadata": {
  "kernelspec": {
   "display_name": "Python 3 (ipykernel)",
   "language": "python",
   "name": "python3"
  },
  "language_info": {
   "codemirror_mode": {
    "name": "ipython",
    "version": 3
   },
   "file_extension": ".py",
   "mimetype": "text/x-python",
   "name": "python",
   "nbconvert_exporter": "python",
   "pygments_lexer": "ipython3",
   "version": "3.10.0"
  }
 },
 "nbformat": 4,
 "nbformat_minor": 5
}
