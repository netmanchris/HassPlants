{
 "cells": [
  {
   "cell_type": "code",
   "execution_count": 58,
   "id": "a0c3e2d2",
   "metadata": {},
   "outputs": [],
   "source": [
    "import pandas as pd\n",
    "from jinja2 import Template\n",
    "import os"
   ]
  },
  {
   "cell_type": "code",
   "execution_count": 59,
   "id": "570eb325",
   "metadata": {},
   "outputs": [],
   "source": [
    "plants_df = pd.read_csv('data/plants_worksheet.csv', index_col=0)\n",
    "#plants_df = pd.read_csv('data/plants_worksheet_sample.csv', index_col=0)\n",
    "plant_attribs = pd.read_csv('data/plant_attrributes.csv', index_col=0).to_dict('records')\n",
    "manual_sensors = pd.read_csv('data/room_sensors.csv', index_col=0).to_dict('records')\n",
    "\n",
    "\n"
   ]
  },
  {
   "cell_type": "code",
   "execution_count": 60,
   "id": "153be72c",
   "metadata": {},
   "outputs": [],
   "source": [
    "# create one DF where all plants with Miflora sensors are included. No NonMiflora plants will be included at this time.\n",
    "#all_miflora_plants_df = plants_df #[plants_df.sensor_model.eq('Miflora')]\n",
    "all_plants_dict = plants_df.to_dict('records')\n",
    "rooms_list = list(plants_df.room.unique())\n",
    "\n",
    "#goal is to render a single page with plants from different rooms into individual sections"
   ]
  },
  {
   "cell_type": "code",
   "execution_count": 68,
   "id": "30cee02a",
   "metadata": {},
   "outputs": [],
   "source": [
    "with open('templates/full_dash.j2') as f:\n",
    "    dashfull_template = f.read()\n",
    "j2_fulldash_template = Template(dashfull_template)"
   ]
  },
  {
   "cell_type": "code",
   "execution_count": 69,
   "id": "e9332db0",
   "metadata": {},
   "outputs": [],
   "source": [
    "for room in rooms_list:\n",
    "    if type(room) is str:\n",
    "        room = [room]\n",
    "        room_df = plants_df[plants_df.room.isin(room)]\n",
    "        #print (len(room_df))\n",
    "        if len(room_df) > 0:\n",
    "            #print (room)\n",
    "            room_df = room_df#[room_df.sensor_model.eq('Miflora')]\n",
    "            room_dict = room_df.to_dict('records')\n",
    "            #print (len(room_dict))\n",
    "            with open('output/dashboards/'+room_dict[0]['room']+'_full_dash.txt', 'w') as f:  \n",
    "                f.write(j2_fulldash_template.render(plants=room_dict, room_name=room_dict[0]['room']))"
   ]
  },
  {
   "cell_type": "markdown",
   "id": "7cf7f655",
   "metadata": {},
   "source": [
    "# Mobile View"
   ]
  },
  {
   "cell_type": "code",
   "execution_count": 56,
   "id": "1c87db47",
   "metadata": {},
   "outputs": [],
   "source": [
    "with open('templates/mobile_dash.j2') as f:\n",
    "    dashmobile_template = f.read()\n",
    "j2_dashmobile_template = Template(dashmobile_template)"
   ]
  },
  {
   "cell_type": "code",
   "execution_count": 57,
   "id": "6c303e1f",
   "metadata": {},
   "outputs": [],
   "source": [
    "for room in rooms_list:\n",
    "    if type(room) is str:\n",
    "        room = [room]\n",
    "        room_df = plants_df[plants_df.room.isin(room)]\n",
    "        #print (len(room_df))\n",
    "        if len(room_df) > 0:\n",
    "            #print (room)\n",
    "            room_df = room_df#[room_df.sensor_model.eq('Miflora')]\n",
    "            room_dict = room_df.to_dict('records')\n",
    "            #print (len(room_dict))\n",
    "            with open('output/dashboards/'+room_dict[0]['room']+'_mobile_dash.txt', 'w') as f:  \n",
    "                f.write(j2_dashmobile_template.render(plants=room_dict, room_name=room_dict[0]['room']))"
   ]
  },
  {
   "cell_type": "code",
   "execution_count": null,
   "id": "eaf755cf",
   "metadata": {},
   "outputs": [],
   "source": []
  }
 ],
 "metadata": {
  "kernelspec": {
   "display_name": "Python 3 (ipykernel)",
   "language": "python",
   "name": "python3"
  },
  "language_info": {
   "codemirror_mode": {
    "name": "ipython",
    "version": 3
   },
   "file_extension": ".py",
   "mimetype": "text/x-python",
   "name": "python",
   "nbconvert_exporter": "python",
   "pygments_lexer": "ipython3",
   "version": "3.10.0"
  }
 },
 "nbformat": 4,
 "nbformat_minor": 5
}
